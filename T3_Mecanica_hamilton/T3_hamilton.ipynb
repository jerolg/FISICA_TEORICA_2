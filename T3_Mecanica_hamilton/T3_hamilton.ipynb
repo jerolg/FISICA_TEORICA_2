{
 "cells": [
  {
   "cell_type": "markdown",
   "metadata": {},
   "source": [
    "**<h1>Sistema Masa-Resorte: Solución mecánica bajo la formulación Hamiltoniana**</h1>"
   ]
  },
  {
   "cell_type": "markdown",
   "metadata": {},
   "source": [
    "Planteemos el modelo diferencial que gobierna el comportamiento de un sistema masa-resorte unidimensional, tal y como se sigue:\n",
    "\n",
    "\\begin{equation}\n",
    "m \\ddot x + b\\dot x + kx = f(t,x)\n",
    "\\end{equation}\n",
    "\n",
    "Se procede a continuación con el planteamiento de la solución tanto análitica como numérica"
   ]
  },
  {
   "cell_type": "code",
   "execution_count": 2,
   "metadata": {},
   "outputs": [],
   "source": [
    "import numpy as np\n",
    "import sympy as sp\n",
    "import matplotlib.pyplot as plt"
   ]
  },
  {
   "cell_type": "code",
   "execution_count": 28,
   "metadata": {},
   "outputs": [
    {
     "data": {
      "text/latex": [
       "$\\displaystyle f{\\left(t \\right)} = b \\frac{d}{d t} x{\\left(t \\right)} + k x{\\left(t \\right)} + m \\frac{d^{2}}{d t^{2}} x{\\left(t \\right)}$"
      ],
      "text/plain": [
       "Eq(f(t), b*Derivative(x(t), t) + k*x(t) + m*Derivative(x(t), (t, 2)))"
      ]
     },
     "execution_count": 28,
     "metadata": {},
     "output_type": "execute_result"
    }
   ],
   "source": [
    "sym = sp.symbols('m, b, k, t')\n",
    "m, b, k, t = sym[0], sym[1], sym[2], sym[3]\n",
    "x= sp.Function('x')(t)\n",
    "f= sp.Function('f')(t)\n",
    "\n",
    "#b=0\n",
    "\n",
    "#Fuerza total sobre el sistema masa-resorte\n",
    "\n",
    "sp.Eq(f, m*sp.diff(x,t,2) + b*sp.diff(x, t) + k*x)"
   ]
  },
  {
   "cell_type": "markdown",
   "metadata": {},
   "source": [
    "La expresión anterior denota la fuerza total que actual sobre el sistema masa resorte en todo instante de tiempo, a excepción del instante en t = 0 en el cuál se asumirá que \n",
    "\n",
    "\\begin{equation}\n",
    "F(t=0) = -kx(t)\n",
    "\\end{equation}\n",
    "\n",
    "Por lo que la energia total del sistema $E(t=0)$ es netamente de naturaleza potencial elástica\n",
    "\n",
    "\\begin{equation}\n",
    "E(t=0) = - \\int{Fdx} = \\frac{1}{2}kx(t)^2\n",
    "\\end{equation}\n",
    "\n",
    "Luego la segunda forma de $E$ para todo tiempo $t$ esta dada por la componente cinética. SE llega a que la energía total del sistema elástico esta dada por (sin considerar efectos disipativos, con lo que $b=0$):\n",
    "\n",
    "\\begin{equation}\n",
    "E = \\frac{1}{2}kx(t)^2 + \\frac{1}{2}m \\dot x(t)^2\n",
    "\\end{equation}\n",
    "\n",
    "Los momentos canónicos del sistema en función de la coordenada $x$ es $P_x = m \\dot x$, por lo que la función hamiltoniana del mismo esta dada por $H(x, P_x)$\n",
    "\n",
    "\\begin{equation}\n",
    "H(x, P_x) = \\frac{P_x^2}{2m} + \\frac{1}{2}kx^2 = \\frac{P_x^2}{2m} + \\frac{m \\omega_x^2 x^2}{2}, \\omega_x = \\sqrt{\\frac{k}{m}}\n",
    "\\end{equation}\n"
   ]
  },
  {
   "cell_type": "code",
   "execution_count": null,
   "metadata": {},
   "outputs": [],
   "source": []
  },
  {
   "cell_type": "markdown",
   "metadata": {},
   "source": [
    "https://physics.stackexchange.com/questions/600117/adiabatic-invariant-in-variable-mass-oscillator\n",
    "\n"
   ]
  }
 ],
 "metadata": {
  "kernelspec": {
   "display_name": "base",
   "language": "python",
   "name": "python3"
  },
  "language_info": {
   "codemirror_mode": {
    "name": "ipython",
    "version": 3
   },
   "file_extension": ".py",
   "mimetype": "text/x-python",
   "name": "python",
   "nbconvert_exporter": "python",
   "pygments_lexer": "ipython3",
   "version": "3.11.7"
  }
 },
 "nbformat": 4,
 "nbformat_minor": 2
}
