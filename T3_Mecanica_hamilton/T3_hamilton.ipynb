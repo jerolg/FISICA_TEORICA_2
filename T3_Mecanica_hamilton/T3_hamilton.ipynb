{
 "cells": [
  {
   "cell_type": "markdown",
   "metadata": {},
   "source": [
    "**<h1>Sistema Masa-Resorte: Solución mecánica bajo la formulación Hamiltoniana**</h1>\n",
    "\n",
    "\n",
    "**Integrantes:**\n",
    "1. Jerónimo López Gómez C.C. 10017353334\n",
    "2. Valentina Lobo Ruiz C.C. 1067912559"
   ]
  },
  {
   "cell_type": "markdown",
   "metadata": {},
   "source": [
    "## **Planteamento del problema**\n",
    "\n",
    "Los distintos tipos de osciladores son los sistemas más ubicuos analizados por medio de la mecánica clásica, muchos sistemas presentan un movimiento aproximado de armónico simple. Los métodos hamiltoneados, en particular la representación del espacio de fases, nos permiten realizar un analísis profundo y detallado del sistema; por otro lado, se puede considerar que  la invariancia adiabática es más relevante que la conservación de la energía. Por todo lo anteriormente mencionado, en este trabajo se hará el desarrollo analítico y númerico de la mecánica hamiltoneana de un sistema masa-resorte unidimensional, así mismo se analizará la invariancia adiabática del sistema cuando presenta cambios pequeños de su masa a lo largo de un periodo."
   ]
  },
  {
   "cell_type": "markdown",
   "metadata": {},
   "source": [
    "## **Marco teórico**"
   ]
  },
  {
   "cell_type": "markdown",
   "metadata": {},
   "source": [
    "## **Desarrollo y discusión**"
   ]
  },
  {
   "cell_type": "markdown",
   "metadata": {},
   "source": [
    "Planteemos el modelo diferencial que gobierna el comportamiento de un sistema masa-resorte unidimensional, tal y como se sigue:\n",
    "\n",
    "\\begin{equation}\n",
    "m \\ddot x + b\\dot x + kx = f(t,x)\n",
    "\\end{equation}\n",
    "\n",
    "La expresión anterior denota la fuerza total que actual sobre el sistema masa resorte en todo instante de tiempo, a excepción del instante en t = 0 en el cuál se asumirá que \n",
    "\n",
    "\\begin{equation}\n",
    "F(t=0) = -kx(t)\n",
    "\\end{equation}\n",
    "\n",
    "Por lo que la energia total del sistema $E(t=0)$ es netamente de naturaleza potencial elástica\n",
    "\n",
    "\\begin{equation}\n",
    "E(t=0) = - \\int{Fdx} = \\frac{1}{2}kx(t)^2\n",
    "\\end{equation}\n",
    "\n",
    "Luego la segunda forma de $E$ para todo tiempo $t$ esta dada por la componente cinética. SE llega a que la energía total del sistema elástico esta dada por (sin considerar efectos disipativos, con lo que $b=0$):\n",
    "\n",
    "\\begin{equation}\n",
    "E = \\frac{1}{2}kx(t)^2 + \\frac{1}{2}m \\dot x(t)^2\n",
    "\\end{equation}\n",
    "\n",
    "El momento canónico del sistema en función de la coordenada $x$ es $p_x = m \\dot x$, por lo que la función hamiltoniana del mismo esta dada por $H(x, p_x)$\n",
    "\n",
    "\\begin{equation}\n",
    "H(x, p_x) = \\frac{p_x^2}{2m} + \\frac{1}{2}kx^2 = \\frac{p_x^2}{2m} + \\frac{m \\omega_0^2 x^2}{2}, \\omega_0 = \\sqrt{\\frac{k}{m}}\n",
    "\\end{equation}\n",
    "\n",
    "Considerando que $H$ no depende del tiempo, por lo cuál esta cantidad es conservada entonces seguidamente se puede definir la respectiva ecuación de Hamilton - Jacobi para el sistema masa-resorte, en función de la acción $S = S_0 + E(\\Delta t)$ que dada la naturaleza conservativa del sistema toma la forma $S = S_0 + E_{cte}$, además asumiendo que S es la función generadora de la transformación canónica de coordenadas $(q, p) \\rightarrow (Q, P)$ con lo cuál las ecuaciones de transformación quedan definidas como se sigue \n",
    "\n",
    "\\begin{equation}\n",
    "p = \\frac{\\partial S_0}{\\partial q}, \\ \\ Q = \\frac{\\partial S_0}{\\partial P}, \\ \\ H' = H + \\frac{\\partial S_0}{\\partial t} = E\n",
    "\\end{equation}\n",
    "\n",
    "De lo cuál se nota que el último termino corresponde a la ecuación de Hamilton-Jacobi $(H-J)$ de la respectiva transformación, en particular para el sistema en cuestión la ecuación $H-J$ quedaría expresada como\n",
    "\n",
    "\\begin{equation}\n",
    "\\frac{1}{2m}\\left(\\frac{\\partial S_0}{\\partial x}\\right)^2 + \\frac{1}{2}m \\omega_0^2 x^2 = E, \\ \\ \\frac{\\partial S_0}{\\partial t}=0\n",
    "\\end{equation}\n",
    "\n",
    "Luego integrando para $S_0$ respecto a $x$ se llega a la forma general de la acción abreviada $S_0$ en función de $x$ y $E$ constante\n",
    "\n",
    "\\begin{equation}\n",
    "S_0(x, E) = m\\omega_0 \\int_0^x \\sqrt{\\frac{2E}{m\\omega_0^2}-x'^2} \\ dx'\n",
    "\\end{equation}\n",
    "\n",
    "Resolviendo la integral en su forma explicita se llega a lo siguiente\n"
   ]
  },
  {
   "cell_type": "code",
   "execution_count": 1,
   "metadata": {},
   "outputs": [],
   "source": [
    "import numpy as np\n",
    "import sympy as sp\n",
    "import matplotlib.pyplot as plt"
   ]
  },
  {
   "cell_type": "code",
   "execution_count": null,
   "metadata": {},
   "outputs": [],
   "source": [
    "sym = sp.symbols('t x S_0 omega_0 m E')\n",
    "t,x, S0, omega, m, E = sym[0], sym[1], sym[2], sym[3], sym[4], sym[5]\n",
    "\n",
    "f = sp.sqrt(2*E / (m*omega**2) - x**2)\n",
    "\n",
    "integral = sp.integrate(f, x)\n",
    "sp.simplify(m*omega*integral)"
   ]
  },
  {
   "cell_type": "markdown",
   "metadata": {},
   "source": [
    "https://physics.stackexchange.com/questions/600117/adiabatic-invariant-in-variable-mass-oscillator\n",
    "\n"
   ]
  }
 ],
 "metadata": {
  "kernelspec": {
   "display_name": "base",
   "language": "python",
   "name": "python3"
  },
  "language_info": {
   "codemirror_mode": {
    "name": "ipython",
    "version": 3
   },
   "file_extension": ".py",
   "mimetype": "text/x-python",
   "name": "python",
   "nbconvert_exporter": "python",
   "pygments_lexer": "ipython3",
   "version": "3.11.7"
  }
 },
 "nbformat": 4,
 "nbformat_minor": 2
}
