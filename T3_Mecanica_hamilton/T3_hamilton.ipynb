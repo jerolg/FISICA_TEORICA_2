{
 "cells": [
  {
   "cell_type": "markdown",
   "metadata": {},
   "source": [
    "**<h1>Sistema Masa-Resorte: Solución mecánica bajo la formulación Hamiltoniana**</h1>\n",
    "\n",
    "\n",
    "**Integrantes:**\n",
    "1. Jerónimo López Gómez C.C. 10017353334\n",
    "2. Valentina Lobo Ruiz C.C. 1067912559"
   ]
  },
  {
   "cell_type": "markdown",
   "metadata": {},
   "source": [
    "## **Planteamento del problema**\n",
    "\n",
    "Los distintos tipos de osciladores son los sistemas más ubicuos analizados por medio de la mecánica clásica, muchos sistemas presentan un movimiento aproximado de armónico simple. Los métodos hamiltoneados, en particular la representación del espacio de fases, nos permiten realizar un analísis profundo y detallado del sistema; por otro lado, se puede considerar que  la invariancia adiabática es más relevante que la conservación de la energía. Por todo lo anteriormente mencionado, en este trabajo se hará el desarrollo analítico y númerico de la mecánica hamiltoneana de un sistema masa-resorte unidimensional, así mismo se analizará la invariancia adiabática del sistema cuando presenta cambios pequeños de su masa a lo largo de un periodo."
   ]
  },
  {
   "cell_type": "markdown",
   "metadata": {},
   "source": [
    "## **Marco teórico**"
   ]
  },
  {
   "cell_type": "markdown",
   "metadata": {},
   "source": [
    "## **Desarrollo teórico y discusión**"
   ]
  },
  {
   "cell_type": "markdown",
   "metadata": {},
   "source": [
    "Planteemos el modelo diferencial que gobierna el comportamiento de un sistema masa-resorte unidimensional, tal y como se sigue:\n",
    "\n",
    "\\begin{equation}\n",
    "m \\ddot x + b\\dot x + kx = f(t,x)\n",
    "\\end{equation}\n",
    "\n",
    "La expresión anterior denota la fuerza total que actual sobre el sistema masa resorte en todo instante de tiempo, a excepción del instante en t = 0 en el cuál se asumirá que \n",
    "\n",
    "\\begin{equation} \\tag{2}\n",
    "F(t=0) = -kx(t)\n",
    "\\end{equation}\n",
    "\n",
    "Por lo que la energia total del sistema $E(t=0)$ es netamente de naturaleza potencial elástica\n",
    "\n",
    "\\begin{equation} \\tag{3}\n",
    "E(t=0) = - \\int{Fdx} = \\frac{1}{2}kx(t)^2\n",
    "\\end{equation}\n",
    "\n",
    "Luego la segunda forma de $E$ para todo tiempo $t$ esta dada por la componente cinética. Se llega a que la energía total del sistema elástico esta dada por (sin considerar efectos disipativos, con lo que $b=0$):\n",
    "\n",
    "\\begin{equation} \\tag{4}\n",
    "E = \\frac{1}{2}kx(t)^2 + \\frac{1}{2}m \\dot x(t)^2\n",
    "\\end{equation}\n",
    "\n",
    "El momento canónico del sistema en función de la coordenada $x$ es $p_x = m \\dot x$, por lo que la función hamiltoniana del mismo esta dada por $H(x, p_x)$\n",
    "\n",
    "\\begin{equation} \\tag{5}\n",
    "H(x, p_x) = \\frac{p_x^2}{2m} + \\frac{1}{2}kx^2 = \\frac{p_x^2}{2m} + \\frac{m \\omega_0^2 x^2}{2}, \\omega_0 = \\sqrt{\\frac{k}{m}}\n",
    "\\end{equation}\n",
    "\n",
    "Considerando que $H$ no depende del tiempo, por lo cuál esta cantidad es conservada entonces seguidamente se puede definir la respectiva ecuación de Hamilton - Jacobi para el sistema masa-resorte, en función de la acción $S = S_0 + E(\\Delta t)$ que dada la naturaleza conservativa del sistema toma la forma $S = S_0 + E_{cte}$, además asumiendo que S es la función generadora de la transformación canónica de coordenadas $(q, p) \\rightarrow (Q, P)$ con lo cuál las ecuaciones de transformación quedan definidas como se sigue \n",
    "\n",
    "\\begin{equation} \\tag{6}\n",
    "p = \\frac{\\partial S_0}{\\partial q}, \\ \\ Q = \\frac{\\partial S_0}{\\partial P}, \\ \\ H' = H + \\frac{\\partial S_0}{\\partial t} = E\n",
    "\\end{equation}\n",
    "\n",
    "De lo cuál se nota que el último termino corresponde a la ecuación de Hamilton-Jacobi $(H-J)$ de la respectiva transformación, en particular para el sistema en cuestión la ecuación $H-J$ quedaría expresada como\n",
    "\n",
    "\\begin{equation} \\tag{7}\n",
    "\\frac{1}{2m}\\left(\\frac{\\partial S_0}{\\partial x}\\right)^2 + \\frac{1}{2}m \\omega_0^2 x^2 = E, \\ \\ \\frac{\\partial S_0}{\\partial t}=0\n",
    "\\end{equation}\n",
    "\n",
    "Luego integrando para $S_0$ respecto a $x$ se llega a la forma general de la acción abreviada $S_0$ en función de $x$ y $E$ constante\n",
    "\n",
    "\\begin{equation} \\tag{8}\n",
    "S_0(x, E) = m\\omega_0 \\int_0^x \\sqrt{\\frac{2E}{m\\omega_0^2}-x'^2} \\ dx'\n",
    "\\end{equation}\n",
    "\n",
    "Resolviendo la integral en su forma explicita se llega a lo siguiente:\n",
    "\n",
    "\n"
   ]
  },
  {
   "cell_type": "code",
   "execution_count": 1,
   "metadata": {},
   "outputs": [],
   "source": [
    "import numpy as np\n",
    "import sympy as sp\n",
    "import matplotlib.pyplot as plt"
   ]
  },
  {
   "cell_type": "code",
   "execution_count": null,
   "metadata": {},
   "outputs": [],
   "source": [
    "# Definición de símbolos\n",
    "sym = sp.symbols('t_0 t x S_0 omega_0 m E')\n",
    "t_0, t, x, S0, omega, m, E = sym[0], sym[1], sym[2], sym[3], sym[4], sym[5], sym[6]\n",
    "\n",
    "# Definición de la función\n",
    "f = sp.sqrt(2*E/(m*omega) - x**2)\n",
    "# Integración\n",
    "integral = sp.integrate(f, (x, 0, x))\n",
    "\n",
    "# Si la solución es un Piecewise, seleccionamos la rama específica\n",
    "if isinstance(integral, sp.Piecewise):\n",
    "    # Seleccionamos la primera rama, que suele corresponder a la solución principal\n",
    "    solucion_especifica = integral.args[1][0]  # args[0][0] es la primera expresión (la solución principal)\n",
    "else:\n",
    "    solucion_especifica = integral\n",
    "\n",
    "# Simplificación\n",
    "resultado_S0 = sp.simplify(m * omega * solucion_especifica)\n",
    "\n",
    "# Mostrar el resultado en formato LaTeX\n",
    "latex_output = sp.latex(resultado_S0)\n",
    "print(latex_output)"
   ]
  },
  {
   "cell_type": "code",
   "execution_count": 47,
   "metadata": {},
   "outputs": [
    {
     "ename": "KeyboardInterrupt",
     "evalue": "",
     "output_type": "error",
     "traceback": [
      "\u001b[1;31m---------------------------------------------------------------------------\u001b[0m",
      "\u001b[1;31mKeyboardInterrupt\u001b[0m                         Traceback (most recent call last)",
      "Cell \u001b[1;32mIn[47], line 21\u001b[0m\n\u001b[0;32m     18\u001b[0m     solucion_especifica \u001b[38;5;241m=\u001b[39m integral\n\u001b[0;32m     20\u001b[0m \u001b[38;5;66;03m# Simplificación\u001b[39;00m\n\u001b[1;32m---> 21\u001b[0m resultado_S0 \u001b[38;5;241m=\u001b[39m \u001b[43msp\u001b[49m\u001b[38;5;241;43m.\u001b[39;49m\u001b[43msimplify\u001b[49m\u001b[43m(\u001b[49m\u001b[43mm\u001b[49m\u001b[43m \u001b[49m\u001b[38;5;241;43m*\u001b[39;49m\u001b[43m \u001b[49m\u001b[43momega\u001b[49m\u001b[43m \u001b[49m\u001b[38;5;241;43m*\u001b[39;49m\u001b[43m \u001b[49m\u001b[43msolucion_especifica\u001b[49m\u001b[43m)\u001b[49m\n\u001b[0;32m     23\u001b[0m \u001b[38;5;66;03m# Mostrar el resultado en formato LaTeX\u001b[39;00m\n\u001b[0;32m     24\u001b[0m latex_output \u001b[38;5;241m=\u001b[39m sp\u001b[38;5;241m.\u001b[39mlatex(resultado_S0)\n",
      "File \u001b[1;32mc:\\Users\\User\\anaconda3\\Lib\\site-packages\\sympy\\simplify\\simplify.py:666\u001b[0m, in \u001b[0;36msimplify\u001b[1;34m(expr, ratio, measure, rational, inverse, doit, **kwargs)\u001b[0m\n\u001b[0;32m    664\u001b[0m expr \u001b[38;5;241m=\u001b[39m piecewise_fold(expr)\n\u001b[0;32m    665\u001b[0m \u001b[38;5;66;03m# Apply doit, if doit=True\u001b[39;00m\n\u001b[1;32m--> 666\u001b[0m expr \u001b[38;5;241m=\u001b[39m \u001b[43mdone\u001b[49m\u001b[43m(\u001b[49m\u001b[43mexpr\u001b[49m\u001b[43m)\u001b[49m\n\u001b[0;32m    667\u001b[0m \u001b[38;5;66;03m# Still a Piecewise?\u001b[39;00m\n\u001b[0;32m    668\u001b[0m \u001b[38;5;28;01mif\u001b[39;00m expr\u001b[38;5;241m.\u001b[39mhas(Piecewise):\n\u001b[0;32m    669\u001b[0m     \u001b[38;5;66;03m# Fold into a single Piecewise, in case doit lead to some\u001b[39;00m\n\u001b[0;32m    670\u001b[0m     \u001b[38;5;66;03m# expressions being Piecewise\u001b[39;00m\n",
      "File \u001b[1;32mc:\\Users\\User\\anaconda3\\Lib\\site-packages\\sympy\\simplify\\simplify.py:585\u001b[0m, in \u001b[0;36msimplify.<locals>.done\u001b[1;34m(e)\u001b[0m\n\u001b[0;32m    584\u001b[0m \u001b[38;5;28;01mdef\u001b[39;00m \u001b[38;5;21mdone\u001b[39m(e):\n\u001b[1;32m--> 585\u001b[0m     rv \u001b[38;5;241m=\u001b[39m \u001b[43me\u001b[49m\u001b[38;5;241;43m.\u001b[39;49m\u001b[43mdoit\u001b[49m\u001b[43m(\u001b[49m\u001b[43m)\u001b[49m \u001b[38;5;28;01mif\u001b[39;00m doit \u001b[38;5;28;01melse\u001b[39;00m e\n\u001b[0;32m    586\u001b[0m     \u001b[38;5;28;01mreturn\u001b[39;00m shorter(rv, collect_abs(rv))\n",
      "File \u001b[1;32mc:\\Users\\User\\anaconda3\\Lib\\site-packages\\sympy\\functions\\elementary\\piecewise.py:213\u001b[0m, in \u001b[0;36mPiecewise.doit\u001b[1;34m(self, **hints)\u001b[0m\n\u001b[0;32m    211\u001b[0m \u001b[38;5;28;01mif\u001b[39;00m hints\u001b[38;5;241m.\u001b[39mget(\u001b[38;5;124m'\u001b[39m\u001b[38;5;124mdeep\u001b[39m\u001b[38;5;124m'\u001b[39m, \u001b[38;5;28;01mTrue\u001b[39;00m):\n\u001b[0;32m    212\u001b[0m     \u001b[38;5;28;01mif\u001b[39;00m \u001b[38;5;28misinstance\u001b[39m(e, Basic):\n\u001b[1;32m--> 213\u001b[0m         newe \u001b[38;5;241m=\u001b[39m \u001b[43me\u001b[49m\u001b[38;5;241;43m.\u001b[39;49m\u001b[43mdoit\u001b[49m\u001b[43m(\u001b[49m\u001b[38;5;241;43m*\u001b[39;49m\u001b[38;5;241;43m*\u001b[39;49m\u001b[43mhints\u001b[49m\u001b[43m)\u001b[49m\n\u001b[0;32m    214\u001b[0m         \u001b[38;5;28;01mif\u001b[39;00m newe \u001b[38;5;241m!=\u001b[39m \u001b[38;5;28mself\u001b[39m:\n\u001b[0;32m    215\u001b[0m             e \u001b[38;5;241m=\u001b[39m newe\n",
      "File \u001b[1;32mc:\\Users\\User\\anaconda3\\Lib\\site-packages\\sympy\\core\\operations.py:455\u001b[0m, in \u001b[0;36mAssocOp.doit\u001b[1;34m(self, **hints)\u001b[0m\n\u001b[0;32m    453\u001b[0m \u001b[38;5;28;01mdef\u001b[39;00m \u001b[38;5;21mdoit\u001b[39m(\u001b[38;5;28mself\u001b[39m, \u001b[38;5;241m*\u001b[39m\u001b[38;5;241m*\u001b[39mhints):\n\u001b[0;32m    454\u001b[0m     \u001b[38;5;28;01mif\u001b[39;00m hints\u001b[38;5;241m.\u001b[39mget(\u001b[38;5;124m'\u001b[39m\u001b[38;5;124mdeep\u001b[39m\u001b[38;5;124m'\u001b[39m, \u001b[38;5;28;01mTrue\u001b[39;00m):\n\u001b[1;32m--> 455\u001b[0m         terms \u001b[38;5;241m=\u001b[39m \u001b[43m[\u001b[49m\u001b[43mterm\u001b[49m\u001b[38;5;241;43m.\u001b[39;49m\u001b[43mdoit\u001b[49m\u001b[43m(\u001b[49m\u001b[38;5;241;43m*\u001b[39;49m\u001b[38;5;241;43m*\u001b[39;49m\u001b[43mhints\u001b[49m\u001b[43m)\u001b[49m\u001b[43m \u001b[49m\u001b[38;5;28;43;01mfor\u001b[39;49;00m\u001b[43m \u001b[49m\u001b[43mterm\u001b[49m\u001b[43m \u001b[49m\u001b[38;5;129;43;01min\u001b[39;49;00m\u001b[43m \u001b[49m\u001b[38;5;28;43mself\u001b[39;49m\u001b[38;5;241;43m.\u001b[39;49m\u001b[43margs\u001b[49m\u001b[43m]\u001b[49m\n\u001b[0;32m    456\u001b[0m     \u001b[38;5;28;01melse\u001b[39;00m:\n\u001b[0;32m    457\u001b[0m         terms \u001b[38;5;241m=\u001b[39m \u001b[38;5;28mself\u001b[39m\u001b[38;5;241m.\u001b[39margs\n",
      "File \u001b[1;32mc:\\Users\\User\\anaconda3\\Lib\\site-packages\\sympy\\core\\operations.py:455\u001b[0m, in \u001b[0;36m<listcomp>\u001b[1;34m(.0)\u001b[0m\n\u001b[0;32m    453\u001b[0m \u001b[38;5;28;01mdef\u001b[39;00m \u001b[38;5;21mdoit\u001b[39m(\u001b[38;5;28mself\u001b[39m, \u001b[38;5;241m*\u001b[39m\u001b[38;5;241m*\u001b[39mhints):\n\u001b[0;32m    454\u001b[0m     \u001b[38;5;28;01mif\u001b[39;00m hints\u001b[38;5;241m.\u001b[39mget(\u001b[38;5;124m'\u001b[39m\u001b[38;5;124mdeep\u001b[39m\u001b[38;5;124m'\u001b[39m, \u001b[38;5;28;01mTrue\u001b[39;00m):\n\u001b[1;32m--> 455\u001b[0m         terms \u001b[38;5;241m=\u001b[39m [\u001b[43mterm\u001b[49m\u001b[38;5;241;43m.\u001b[39;49m\u001b[43mdoit\u001b[49m\u001b[43m(\u001b[49m\u001b[38;5;241;43m*\u001b[39;49m\u001b[38;5;241;43m*\u001b[39;49m\u001b[43mhints\u001b[49m\u001b[43m)\u001b[49m \u001b[38;5;28;01mfor\u001b[39;00m term \u001b[38;5;129;01min\u001b[39;00m \u001b[38;5;28mself\u001b[39m\u001b[38;5;241m.\u001b[39margs]\n\u001b[0;32m    456\u001b[0m     \u001b[38;5;28;01melse\u001b[39;00m:\n\u001b[0;32m    457\u001b[0m         terms \u001b[38;5;241m=\u001b[39m \u001b[38;5;28mself\u001b[39m\u001b[38;5;241m.\u001b[39margs\n",
      "File \u001b[1;32mc:\\Users\\User\\anaconda3\\Lib\\site-packages\\sympy\\integrals\\integrals.py:612\u001b[0m, in \u001b[0;36mIntegral.doit\u001b[1;34m(self, **hints)\u001b[0m\n\u001b[0;32m    610\u001b[0m     antideriv \u001b[38;5;241m=\u001b[39m \u001b[38;5;28;01mNone\u001b[39;00m\n\u001b[0;32m    611\u001b[0m \u001b[38;5;28;01melse\u001b[39;00m:\n\u001b[1;32m--> 612\u001b[0m     antideriv \u001b[38;5;241m=\u001b[39m \u001b[38;5;28;43mself\u001b[39;49m\u001b[38;5;241;43m.\u001b[39;49m\u001b[43m_eval_integral\u001b[49m\u001b[43m(\u001b[49m\n\u001b[0;32m    613\u001b[0m \u001b[43m        \u001b[49m\u001b[43mfunction\u001b[49m\u001b[43m,\u001b[49m\u001b[43m \u001b[49m\u001b[43mxab\u001b[49m\u001b[43m[\u001b[49m\u001b[38;5;241;43m0\u001b[39;49m\u001b[43m]\u001b[49m\u001b[43m,\u001b[49m\u001b[43m \u001b[49m\u001b[38;5;241;43m*\u001b[39;49m\u001b[38;5;241;43m*\u001b[39;49m\u001b[43meval_kwargs\u001b[49m\u001b[43m)\u001b[49m\n\u001b[0;32m    614\u001b[0m     \u001b[38;5;28;01mif\u001b[39;00m antideriv \u001b[38;5;129;01mis\u001b[39;00m \u001b[38;5;28;01mNone\u001b[39;00m \u001b[38;5;129;01mand\u001b[39;00m meijerg \u001b[38;5;129;01mis\u001b[39;00m \u001b[38;5;28;01mTrue\u001b[39;00m:\n\u001b[0;32m    615\u001b[0m         ret \u001b[38;5;241m=\u001b[39m try_meijerg(function, xab)\n",
      "File \u001b[1;32mc:\\Users\\User\\anaconda3\\Lib\\site-packages\\sympy\\integrals\\integrals.py:1084\u001b[0m, in \u001b[0;36mIntegral._eval_integral\u001b[1;34m(self, f, x, meijerg, risch, manual, heurisch, conds, final)\u001b[0m\n\u001b[0;32m   1082\u001b[0m \u001b[38;5;28;01mtry\u001b[39;00m:\n\u001b[0;32m   1083\u001b[0m     \u001b[38;5;28;01mif\u001b[39;00m conds \u001b[38;5;241m==\u001b[39m \u001b[38;5;124m'\u001b[39m\u001b[38;5;124mpiecewise\u001b[39m\u001b[38;5;124m'\u001b[39m:\n\u001b[1;32m-> 1084\u001b[0m         h \u001b[38;5;241m=\u001b[39m \u001b[43mheurisch_wrapper\u001b[49m\u001b[43m(\u001b[49m\u001b[43mg\u001b[49m\u001b[43m,\u001b[49m\u001b[43m \u001b[49m\u001b[43mx\u001b[49m\u001b[43m,\u001b[49m\u001b[43m \u001b[49m\u001b[43mhints\u001b[49m\u001b[38;5;241;43m=\u001b[39;49m\u001b[43m[\u001b[49m\u001b[43m]\u001b[49m\u001b[43m)\u001b[49m\n\u001b[0;32m   1085\u001b[0m     \u001b[38;5;28;01melse\u001b[39;00m:\n\u001b[0;32m   1086\u001b[0m         h \u001b[38;5;241m=\u001b[39m heurisch_(g, x, hints\u001b[38;5;241m=\u001b[39m[])\n",
      "File \u001b[1;32mc:\\Users\\User\\anaconda3\\Lib\\site-packages\\sympy\\integrals\\heurisch.py:143\u001b[0m, in \u001b[0;36mheurisch_wrapper\u001b[1;34m(f, x, rewrite, hints, mappings, retries, degree_offset, unnecessary_permutations, _try_heurisch)\u001b[0m\n\u001b[0;32m    140\u001b[0m \u001b[38;5;28;01mif\u001b[39;00m \u001b[38;5;129;01mnot\u001b[39;00m f\u001b[38;5;241m.\u001b[39mhas_free(x):\n\u001b[0;32m    141\u001b[0m     \u001b[38;5;28;01mreturn\u001b[39;00m f\u001b[38;5;241m*\u001b[39mx\n\u001b[1;32m--> 143\u001b[0m res \u001b[38;5;241m=\u001b[39m \u001b[43mheurisch\u001b[49m\u001b[43m(\u001b[49m\u001b[43mf\u001b[49m\u001b[43m,\u001b[49m\u001b[43m \u001b[49m\u001b[43mx\u001b[49m\u001b[43m,\u001b[49m\u001b[43m \u001b[49m\u001b[43mrewrite\u001b[49m\u001b[43m,\u001b[49m\u001b[43m \u001b[49m\u001b[43mhints\u001b[49m\u001b[43m,\u001b[49m\u001b[43m \u001b[49m\u001b[43mmappings\u001b[49m\u001b[43m,\u001b[49m\u001b[43m \u001b[49m\u001b[43mretries\u001b[49m\u001b[43m,\u001b[49m\u001b[43m \u001b[49m\u001b[43mdegree_offset\u001b[49m\u001b[43m,\u001b[49m\n\u001b[0;32m    144\u001b[0m \u001b[43m               \u001b[49m\u001b[43munnecessary_permutations\u001b[49m\u001b[43m,\u001b[49m\u001b[43m \u001b[49m\u001b[43m_try_heurisch\u001b[49m\u001b[43m)\u001b[49m\n\u001b[0;32m    145\u001b[0m \u001b[38;5;28;01mif\u001b[39;00m \u001b[38;5;129;01mnot\u001b[39;00m \u001b[38;5;28misinstance\u001b[39m(res, Basic):\n\u001b[0;32m    146\u001b[0m     \u001b[38;5;28;01mreturn\u001b[39;00m res\n",
      "File \u001b[1;32mc:\\Users\\User\\anaconda3\\Lib\\site-packages\\sympy\\integrals\\heurisch.py:624\u001b[0m, in \u001b[0;36mheurisch\u001b[1;34m(f, x, rewrite, hints, mappings, retries, degree_offset, unnecessary_permutations, _try_heurisch)\u001b[0m\n\u001b[0;32m    620\u001b[0m     monoms \u001b[38;5;241m=\u001b[39m \u001b[38;5;28mtuple\u001b[39m(ordered(itermonomials(V, A \u001b[38;5;241m+\u001b[39m B \u001b[38;5;241m+\u001b[39m degree_offset)))\n\u001b[0;32m    622\u001b[0m poly_coeffs \u001b[38;5;241m=\u001b[39m _symbols(\u001b[38;5;124m'\u001b[39m\u001b[38;5;124mA\u001b[39m\u001b[38;5;124m'\u001b[39m, \u001b[38;5;28mlen\u001b[39m(monoms))\n\u001b[1;32m--> 624\u001b[0m poly_part \u001b[38;5;241m=\u001b[39m Add(\u001b[38;5;241m*\u001b[39m\u001b[43m[\u001b[49m\u001b[43m \u001b[49m\u001b[43mpoly_coeffs\u001b[49m\u001b[43m[\u001b[49m\u001b[43mi\u001b[49m\u001b[43m]\u001b[49m\u001b[38;5;241;43m*\u001b[39;49m\u001b[43mmonomial\u001b[49m\n\u001b[0;32m    625\u001b[0m \u001b[43m    \u001b[49m\u001b[38;5;28;43;01mfor\u001b[39;49;00m\u001b[43m \u001b[49m\u001b[43mi\u001b[49m\u001b[43m,\u001b[49m\u001b[43m \u001b[49m\u001b[43mmonomial\u001b[49m\u001b[43m \u001b[49m\u001b[38;5;129;43;01min\u001b[39;49;00m\u001b[43m \u001b[49m\u001b[38;5;28;43menumerate\u001b[39;49m\u001b[43m(\u001b[49m\u001b[43mmonoms\u001b[49m\u001b[43m)\u001b[49m\u001b[43m \u001b[49m\u001b[43m]\u001b[49m)\n\u001b[0;32m    627\u001b[0m reducibles \u001b[38;5;241m=\u001b[39m \u001b[38;5;28mset\u001b[39m()\n\u001b[0;32m    629\u001b[0m \u001b[38;5;28;01mfor\u001b[39;00m poly \u001b[38;5;129;01min\u001b[39;00m ordered(polys):\n",
      "File \u001b[1;32mc:\\Users\\User\\anaconda3\\Lib\\site-packages\\sympy\\integrals\\heurisch.py:624\u001b[0m, in \u001b[0;36m<listcomp>\u001b[1;34m(.0)\u001b[0m\n\u001b[0;32m    620\u001b[0m     monoms \u001b[38;5;241m=\u001b[39m \u001b[38;5;28mtuple\u001b[39m(ordered(itermonomials(V, A \u001b[38;5;241m+\u001b[39m B \u001b[38;5;241m+\u001b[39m degree_offset)))\n\u001b[0;32m    622\u001b[0m poly_coeffs \u001b[38;5;241m=\u001b[39m _symbols(\u001b[38;5;124m'\u001b[39m\u001b[38;5;124mA\u001b[39m\u001b[38;5;124m'\u001b[39m, \u001b[38;5;28mlen\u001b[39m(monoms))\n\u001b[1;32m--> 624\u001b[0m poly_part \u001b[38;5;241m=\u001b[39m Add(\u001b[38;5;241m*\u001b[39m[ \u001b[43mpoly_coeffs\u001b[49m\u001b[43m[\u001b[49m\u001b[43mi\u001b[49m\u001b[43m]\u001b[49m\u001b[38;5;241;43m*\u001b[39;49m\u001b[43mmonomial\u001b[49m\n\u001b[0;32m    625\u001b[0m     \u001b[38;5;28;01mfor\u001b[39;00m i, monomial \u001b[38;5;129;01min\u001b[39;00m \u001b[38;5;28menumerate\u001b[39m(monoms) ])\n\u001b[0;32m    627\u001b[0m reducibles \u001b[38;5;241m=\u001b[39m \u001b[38;5;28mset\u001b[39m()\n\u001b[0;32m    629\u001b[0m \u001b[38;5;28;01mfor\u001b[39;00m poly \u001b[38;5;129;01min\u001b[39;00m ordered(polys):\n",
      "File \u001b[1;32mc:\\Users\\User\\anaconda3\\Lib\\site-packages\\sympy\\core\\decorators.py:236\u001b[0m, in \u001b[0;36m_SympifyWrapper.make_wrapped.<locals>._func\u001b[1;34m(self, other)\u001b[0m\n\u001b[0;32m    234\u001b[0m \u001b[38;5;28;01mif\u001b[39;00m \u001b[38;5;129;01mnot\u001b[39;00m \u001b[38;5;28misinstance\u001b[39m(other, expectedcls):\n\u001b[0;32m    235\u001b[0m     \u001b[38;5;28;01mreturn\u001b[39;00m retval\n\u001b[1;32m--> 236\u001b[0m \u001b[38;5;28;01mreturn\u001b[39;00m \u001b[43mfunc\u001b[49m\u001b[43m(\u001b[49m\u001b[38;5;28;43mself\u001b[39;49m\u001b[43m,\u001b[49m\u001b[43m \u001b[49m\u001b[43mother\u001b[49m\u001b[43m)\u001b[49m\n",
      "File \u001b[1;32mc:\\Users\\User\\anaconda3\\Lib\\site-packages\\sympy\\core\\decorators.py:106\u001b[0m, in \u001b[0;36mcall_highest_priority.<locals>.priority_decorator.<locals>.binary_op_wrapper\u001b[1;34m(self, other)\u001b[0m\n\u001b[0;32m    104\u001b[0m         \u001b[38;5;28;01mif\u001b[39;00m f \u001b[38;5;129;01mis\u001b[39;00m \u001b[38;5;129;01mnot\u001b[39;00m \u001b[38;5;28;01mNone\u001b[39;00m:\n\u001b[0;32m    105\u001b[0m             \u001b[38;5;28;01mreturn\u001b[39;00m f(\u001b[38;5;28mself\u001b[39m)\n\u001b[1;32m--> 106\u001b[0m \u001b[38;5;28;01mreturn\u001b[39;00m \u001b[43mfunc\u001b[49m\u001b[43m(\u001b[49m\u001b[38;5;28;43mself\u001b[39;49m\u001b[43m,\u001b[49m\u001b[43m \u001b[49m\u001b[43mother\u001b[49m\u001b[43m)\u001b[49m\n",
      "File \u001b[1;32mc:\\Users\\User\\anaconda3\\Lib\\site-packages\\sympy\\core\\expr.py:218\u001b[0m, in \u001b[0;36mExpr.__mul__\u001b[1;34m(self, other)\u001b[0m\n\u001b[0;32m    215\u001b[0m \u001b[38;5;129m@sympify_return\u001b[39m([(\u001b[38;5;124m'\u001b[39m\u001b[38;5;124mother\u001b[39m\u001b[38;5;124m'\u001b[39m, \u001b[38;5;124m'\u001b[39m\u001b[38;5;124mExpr\u001b[39m\u001b[38;5;124m'\u001b[39m)], \u001b[38;5;28mNotImplemented\u001b[39m)\n\u001b[0;32m    216\u001b[0m \u001b[38;5;129m@call_highest_priority\u001b[39m(\u001b[38;5;124m'\u001b[39m\u001b[38;5;124m__rmul__\u001b[39m\u001b[38;5;124m'\u001b[39m)\n\u001b[0;32m    217\u001b[0m \u001b[38;5;28;01mdef\u001b[39;00m \u001b[38;5;21m__mul__\u001b[39m(\u001b[38;5;28mself\u001b[39m, other):\n\u001b[1;32m--> 218\u001b[0m     \u001b[38;5;28;01mreturn\u001b[39;00m \u001b[43mMul\u001b[49m\u001b[43m(\u001b[49m\u001b[38;5;28;43mself\u001b[39;49m\u001b[43m,\u001b[49m\u001b[43m \u001b[49m\u001b[43mother\u001b[49m\u001b[43m)\u001b[49m\n",
      "File \u001b[1;32mc:\\Users\\User\\anaconda3\\Lib\\site-packages\\sympy\\core\\cache.py:72\u001b[0m, in \u001b[0;36m__cacheit.<locals>.func_wrapper.<locals>.wrapper\u001b[1;34m(*args, **kwargs)\u001b[0m\n\u001b[0;32m     69\u001b[0m \u001b[38;5;129m@wraps\u001b[39m(func)\n\u001b[0;32m     70\u001b[0m \u001b[38;5;28;01mdef\u001b[39;00m \u001b[38;5;21mwrapper\u001b[39m(\u001b[38;5;241m*\u001b[39margs, \u001b[38;5;241m*\u001b[39m\u001b[38;5;241m*\u001b[39mkwargs):\n\u001b[0;32m     71\u001b[0m     \u001b[38;5;28;01mtry\u001b[39;00m:\n\u001b[1;32m---> 72\u001b[0m         retval \u001b[38;5;241m=\u001b[39m \u001b[43mcfunc\u001b[49m\u001b[43m(\u001b[49m\u001b[38;5;241;43m*\u001b[39;49m\u001b[43margs\u001b[49m\u001b[43m,\u001b[49m\u001b[43m \u001b[49m\u001b[38;5;241;43m*\u001b[39;49m\u001b[38;5;241;43m*\u001b[39;49m\u001b[43mkwargs\u001b[49m\u001b[43m)\u001b[49m\n\u001b[0;32m     73\u001b[0m     \u001b[38;5;28;01mexcept\u001b[39;00m \u001b[38;5;167;01mTypeError\u001b[39;00m \u001b[38;5;28;01mas\u001b[39;00m e:\n\u001b[0;32m     74\u001b[0m         \u001b[38;5;28;01mif\u001b[39;00m \u001b[38;5;129;01mnot\u001b[39;00m e\u001b[38;5;241m.\u001b[39margs \u001b[38;5;129;01mor\u001b[39;00m \u001b[38;5;129;01mnot\u001b[39;00m e\u001b[38;5;241m.\u001b[39margs[\u001b[38;5;241m0\u001b[39m]\u001b[38;5;241m.\u001b[39mstartswith(\u001b[38;5;124m'\u001b[39m\u001b[38;5;124munhashable type:\u001b[39m\u001b[38;5;124m'\u001b[39m):\n",
      "File \u001b[1;32mc:\\Users\\User\\anaconda3\\Lib\\site-packages\\sympy\\core\\operations.py:98\u001b[0m, in \u001b[0;36mAssocOp.__new__\u001b[1;34m(cls, evaluate, _sympify, *args)\u001b[0m\n\u001b[0;32m     95\u001b[0m \u001b[38;5;28;01mif\u001b[39;00m \u001b[38;5;28mlen\u001b[39m(args) \u001b[38;5;241m==\u001b[39m \u001b[38;5;241m1\u001b[39m:\n\u001b[0;32m     96\u001b[0m     \u001b[38;5;28;01mreturn\u001b[39;00m args[\u001b[38;5;241m0\u001b[39m]\n\u001b[1;32m---> 98\u001b[0m c_part, nc_part, order_symbols \u001b[38;5;241m=\u001b[39m \u001b[38;5;28;43mcls\u001b[39;49m\u001b[38;5;241;43m.\u001b[39;49m\u001b[43mflatten\u001b[49m\u001b[43m(\u001b[49m\u001b[43margs\u001b[49m\u001b[43m)\u001b[49m\n\u001b[0;32m     99\u001b[0m is_commutative \u001b[38;5;241m=\u001b[39m \u001b[38;5;129;01mnot\u001b[39;00m nc_part\n\u001b[0;32m    100\u001b[0m obj \u001b[38;5;241m=\u001b[39m \u001b[38;5;28mcls\u001b[39m\u001b[38;5;241m.\u001b[39m_from_args(c_part \u001b[38;5;241m+\u001b[39m nc_part, is_commutative)\n",
      "File \u001b[1;32mc:\\Users\\User\\anaconda3\\Lib\\site-packages\\sympy\\core\\mul.py:482\u001b[0m, in \u001b[0;36mMul.flatten\u001b[1;34m(cls, seq)\u001b[0m\n\u001b[0;32m    479\u001b[0m     \u001b[38;5;28;01mreturn\u001b[39;00m new_c_powers\n\u001b[0;32m    481\u001b[0m \u001b[38;5;66;03m# in c_powers\u001b[39;00m\n\u001b[1;32m--> 482\u001b[0m c_powers \u001b[38;5;241m=\u001b[39m \u001b[43m_gather\u001b[49m\u001b[43m(\u001b[49m\u001b[43mc_powers\u001b[49m\u001b[43m)\u001b[49m\n\u001b[0;32m    484\u001b[0m \u001b[38;5;66;03m# and in num_exp\u001b[39;00m\n\u001b[0;32m    485\u001b[0m num_exp \u001b[38;5;241m=\u001b[39m _gather(num_exp)\n",
      "File \u001b[1;32mc:\\Users\\User\\anaconda3\\Lib\\site-packages\\sympy\\core\\mul.py:474\u001b[0m, in \u001b[0;36mMul.flatten.<locals>._gather\u001b[1;34m(c_powers)\u001b[0m\n\u001b[0;32m    471\u001b[0m     common_b\u001b[38;5;241m.\u001b[39msetdefault(b, {})\u001b[38;5;241m.\u001b[39msetdefault(\n\u001b[0;32m    472\u001b[0m         co[\u001b[38;5;241m1\u001b[39m], [])\u001b[38;5;241m.\u001b[39mappend(co[\u001b[38;5;241m0\u001b[39m])\n\u001b[0;32m    473\u001b[0m \u001b[38;5;28;01mfor\u001b[39;00m b, d \u001b[38;5;129;01min\u001b[39;00m common_b\u001b[38;5;241m.\u001b[39mitems():\n\u001b[1;32m--> 474\u001b[0m     \u001b[38;5;28;01mfor\u001b[39;00m di, li \u001b[38;5;129;01min\u001b[39;00m d\u001b[38;5;241m.\u001b[39mitems():\n\u001b[0;32m    475\u001b[0m         d[di] \u001b[38;5;241m=\u001b[39m Add(\u001b[38;5;241m*\u001b[39mli)\n\u001b[0;32m    476\u001b[0m new_c_powers \u001b[38;5;241m=\u001b[39m []\n",
      "\u001b[1;31mKeyboardInterrupt\u001b[0m: "
     ]
    }
   ],
   "source": [
    "import sympy as sp\n",
    "\n",
    "# Definición de símbolos\n",
    "a, x = sp.symbols('a x')\n",
    "\n",
    "# Definición de la función\n",
    "x_prime = sp.Symbol('x_prime')  # Para representar la variable de integración\n",
    "f = sp.sqrt(a - x_prime**2)\n",
    "\n",
    "# Integración\n",
    "integral = sp.integrate(f, (x_prime, 0, x))\n",
    "\n",
    "# Si la solución es un Piecewise, seleccionamos la rama específica\n",
    "if isinstance(integral, sp.Piecewise):\n",
    "    # Seleccionamos la primera rama, que suele corresponder a la solución principal\n",
    "    solucion_especifica = integral.args[1][0]  # args[0][0] es la primera expresión (la solución principal)\n",
    "else:\n",
    "    solucion_especifica = integral\n",
    "\n",
    "# Simplificación\n",
    "resultado_S0 = sp.simplify(m * omega * solucion_especifica)\n",
    "\n",
    "# Mostrar el resultado en formato LaTeX\n",
    "latex_output = sp.latex(resultado_S0)\n",
    "print(latex_output)"
   ]
  },
  {
   "cell_type": "markdown",
   "metadata": {},
   "source": [
    "\\begin{equation} \\tag{9}\n",
    "S_0(q, E) = \\frac{\\sqrt{E} \\sqrt{m} \\sqrt{\\omega_{0}} x \\sqrt{2 - \\frac{m \\omega_{0} x^{2}}{E}}}{2} + E \\operatorname{asin}{\\left(\\frac{\\sqrt{2} \\sqrt{m} \\sqrt{\\omega_{0}} x}{2 \\sqrt{E}} \\right)}\n",
    "\n",
    "\\end{equation} \\tag{9}\n",
    "\n",
    "Tomamos ahora las cantidades $p = \\frac{\\partial S_0}{\\partial x}, \\ \\ Q_E = \\frac{\\partial S_0}{\\partial E}$"
   ]
  },
  {
   "cell_type": "code",
   "execution_count": 28,
   "metadata": {},
   "outputs": [
    {
     "data": {
      "text/plain": [
       "('\\\\sqrt{E} \\\\sqrt{m} \\\\omega_{0} \\\\sqrt{2 - \\\\frac{m x^{2}}{E}}',\n",
       " '\\\\omega_{0} \\\\operatorname{asin}{\\\\left(\\\\frac{\\\\sqrt{2} \\\\sqrt{m} x}{2 \\\\sqrt{E}} \\\\right)}')"
      ]
     },
     "execution_count": 28,
     "metadata": {},
     "output_type": "execute_result"
    }
   ],
   "source": [
    "sp.latex(sp.simplify(sp.diff(resultado_S0,x))), sp.latex(sp.simplify(sp.diff(resultado_S0,E)))"
   ]
  },
  {
   "cell_type": "markdown",
   "metadata": {},
   "source": [
    "\\begin{equation} \\tag{10}\n",
    "p = \\sqrt{E} \\sqrt{m} \\omega_{0} \\sqrt{2 - \\frac{m x^{2}}{E}}\n",
    "\\end{equation}\n",
    "\n",
    "\\begin{equation} \\tag{11}\n",
    "Q_E = \\omega_{0} \\operatorname{asin}{\\left(\\frac{\\sqrt{2} \\sqrt{m} x}{2 \\sqrt{E}} \\right)}\n",
    "\n",
    "\\end{equation}\n",
    "\n",
    "Sabiendo además que $Q_E = \\Delta t$, entonces \n",
    "\n"
   ]
  },
  {
   "cell_type": "code",
   "execution_count": 36,
   "metadata": {},
   "outputs": [
    {
     "data": {
      "text/latex": [
       "$\\displaystyle \\frac{\\sqrt{2} \\sqrt{E} \\sin{\\left(\\frac{t - t_{0}}{\\omega_{0}} \\right)}}{\\sqrt{m}}$"
      ],
      "text/plain": [
       "sqrt(2)*sqrt(E)*sin((t - t_0)/omega_0)/sqrt(m)"
      ]
     },
     "execution_count": 36,
     "metadata": {},
     "output_type": "execute_result"
    }
   ],
   "source": [
    "Q_E = sp.Eq(t-t_0, sp.diff(resultado_S0,E))\n",
    "\n",
    "sp.simplify(sp.solve(Q_E, x)[0])"
   ]
  },
  {
   "cell_type": "markdown",
   "metadata": {},
   "source": [
    "## **Variable de acción para el sistema masa-resorte**"
   ]
  },
  {
   "cell_type": "markdown",
   "metadata": {},
   "source": [
    "## **Invarianza adiabática del sistema masa-resorte**"
   ]
  },
  {
   "cell_type": "markdown",
   "metadata": {},
   "source": [
    "Ya vimos en caso en el que el Hamiltoneado es independiente del tiempo. Ahora, suponemos un hamiltoneano $H(x,p_x, t) $ y una energía que depende levemente del tiempo. Para lograr que la dependencia sea débil, se escoge un parámetro ($\\lambda$) del sistema que varíe poco a lo largo de un período (se puede observar en la ecuación **###**). Para el sistema estudiado en este trabajo, se puede escoger la masa $m(t)$ y/o la constante de elásticidad $k(t)$  como la variable que presentará pequeños cambios a lo largo de un período. Cuando existe una variacón en  ($\\lambda$) el movimiento se denomina como pertubado.\n",
    "\n",
    "\\begin{equation} \\tag{PONER}\n",
    "E(t) = H(x, p_x, t) = H(x, p_x, \\lambda (t))\n",
    "\\end{equation}\n",
    "\n",
    "Siguiendo con el analísis para un sistema pertubado lentamente, veamos la taza de cambio de la energía respecto al tiempo.\n",
    "\n",
    "\\begin{equation} \\tag{PONER}\n",
    "\\frac{d E(t)}{dt} = \\frac{\\partial H}{\\partial \\lambda} \\frac{d \\lambda}{dt}\n",
    "\\end{equation}\n",
    "\n",
    "Cuyo promedio a lo largo de un periodo es:\n",
    "\n",
    "\\begin{equation} \\tag{PONER}\n",
    "\\overline{ \\frac{d E(t)}{dt}} = \\frac{d \\lambda}{dt} \\frac{1}{T} \\int_0^T \\frac{\\partial H}{\\partial \\lambda} dt\n",
    "\\end{equation} \n"
   ]
  },
  {
   "cell_type": "markdown",
   "metadata": {},
   "source": [
    "https://physics.stackexchange.com/questions/600117/adiabatic-invariant-in-variable-mass-oscillator\n",
    "\n"
   ]
  }
 ],
 "metadata": {
  "kernelspec": {
   "display_name": "base",
   "language": "python",
   "name": "python3"
  },
  "language_info": {
   "codemirror_mode": {
    "name": "ipython",
    "version": 3
   },
   "file_extension": ".py",
   "mimetype": "text/x-python",
   "name": "python",
   "nbconvert_exporter": "python",
   "pygments_lexer": "ipython3",
   "version": "3.11.7"
  }
 },
 "nbformat": 4,
 "nbformat_minor": 2
}
