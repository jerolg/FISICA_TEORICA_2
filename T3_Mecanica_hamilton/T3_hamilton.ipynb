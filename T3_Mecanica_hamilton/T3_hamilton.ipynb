{
 "cells": [
  {
   "cell_type": "markdown",
   "metadata": {},
   "source": [
    "**<h1>Sistema Masa-Resorte: Solución mecánica bajo la formulación Hamiltoniana**</h1>\n",
    "\n",
    "\n",
    "**Integrantes:**\n",
    "1. Jerónimo López Gómez C.C. 10017353334\n",
    "2. Valentina Lobo Ruiz C.C. 1067912559"
   ]
  },
  {
   "cell_type": "markdown",
   "metadata": {},
   "source": [
    "## **Planteamento del problema**\n",
    "\n",
    "Los distintos tipos de osciladores son los sistemas más ubicuos analizados por medio de la mecánica clásica, muchos sistemas presentan un movimiento aproximado de armónico simple. Los métodos hamiltoneados, en particular la representación del espacio de fases, nos permiten realizar un analísis profundo y detallado del sistema; por otro lado, se puede considerar que  la invariancia adiabática es más relevante que la conservación de la energía. Por todo lo anteriormente mencionado, en este trabajo se hará el desarrollo analítico y númerico de la mecánica hamiltoneana de un sistema masa-resorte unidimensional, así mismo se analizará la invariancia adiabática del sistema cuando presenta cambios pequeños de su masa a lo largo de un periodo."
   ]
  },
  {
   "cell_type": "markdown",
   "metadata": {},
   "source": [
    "## **Desarrollo teórico y discusión**"
   ]
  },
  {
   "cell_type": "markdown",
   "metadata": {},
   "source": [
    "Planteemos el modelo diferencial que gobierna el comportamiento de un sistema masa-resorte unidimensional, tal y como se sigue:\n",
    "\n",
    "\\begin{equation}\n",
    "m \\ddot x + b\\dot x + kx = f(t,x)\n",
    "\\end{equation}\n",
    "\n",
    "La expresión anterior denota la fuerza total que actual sobre el sistema masa resorte en todo instante de tiempo, a excepción del instante en t = 0 en el cuál se asumirá que \n",
    "\n",
    "\\begin{equation} \\tag{2}\n",
    "F(t=0) = -kx(t)\n",
    "\\end{equation}\n",
    "\n",
    "Por lo que la energia total del sistema $E(t=0)$ es netamente de naturaleza potencial elástica\n",
    "\n",
    "\\begin{equation} \\tag{3}\n",
    "E(t=0) = - \\int{Fdx} = \\frac{1}{2}kx(t)^2\n",
    "\\end{equation}\n",
    "\n",
    "Luego la segunda forma de $E$ para todo tiempo $t$ esta dada por la componente cinética. Se llega a que la energía total del sistema elástico esta dada por (sin considerar efectos disipativos, con lo que $b=0$):\n",
    "\n",
    "\\begin{equation} \\tag{4}\n",
    "E = \\frac{1}{2}kx(t)^2 + \\frac{1}{2}m \\dot x(t)^2\n",
    "\\end{equation}\n",
    "\n",
    "El momento canónico del sistema en función de la coordenada $x$ es $p_x = m \\dot x$, por lo que la función hamiltoniana del mismo esta dada por $H(x, p_x)$\n",
    "\n",
    "\\begin{equation} \\tag{5}\n",
    "H(x, p_x) = \\frac{p_x^2}{2m} + \\frac{1}{2}kx^2 = \\frac{p_x^2}{2m} + \\frac{m \\omega_0^2 x^2}{2}, \\omega_0 = \\sqrt{\\frac{k}{m}}\n",
    "\\end{equation}\n",
    "\n",
    "Considerando que $H$ no depende del tiempo, por lo cuál esta cantidad es conservada entonces seguidamente se puede definir la respectiva ecuación de Hamilton - Jacobi para el sistema masa-resorte, en función de la acción $S = S_0 + E(\\Delta t)$ que dada la naturaleza conservativa del sistema toma la forma $S = S_0 + E_{cte}$, además asumiendo que S es la función generadora de la transformación canónica de coordenadas $(q, p) \\rightarrow (Q, P)$ con lo cuál las ecuaciones de transformación quedan definidas como se sigue \n",
    "\n",
    "\\begin{equation} \\tag{6}\n",
    "p = \\frac{\\partial S_0}{\\partial q}, \\ \\ Q = \\frac{\\partial S_0}{\\partial P}, \\ \\ H' = H + \\frac{\\partial S_0}{\\partial t} = E\n",
    "\\end{equation}\n",
    "\n",
    "De lo cuál se nota que el último termino corresponde a la ecuación de Hamilton-Jacobi $(H-J)$ de la respectiva transformación, en particular para el sistema en cuestión la ecuación $H-J$ quedaría expresada como\n",
    "\n",
    "\\begin{equation} \\tag{7}\n",
    "\\frac{1}{2m}\\left(\\frac{\\partial S_0}{\\partial x}\\right)^2 + \\frac{1}{2}m \\omega_0^2 x^2 = E, \\ \\ \\frac{\\partial S_0}{\\partial t}=0\n",
    "\\end{equation}\n",
    "\n",
    "Luego integrando para $S_0$ respecto a $x$ se llega a la forma general de la acción abreviada $S_0$ en función de $x$ y $E$ constante\n",
    "\n",
    "\\begin{equation} \\tag{8}\n",
    "S_0(x, E) = m\\omega_0 \\int_0^x \\sqrt{\\frac{2E}{m\\omega_0^2}-x'^2} \\ dx'\n",
    "\\end{equation}\n",
    "\n",
    "Resolviendo la integral en su forma explicita se llega a lo siguiente:\n",
    "\n",
    "\n"
   ]
  },
  {
   "cell_type": "code",
   "execution_count": 9,
   "metadata": {},
   "outputs": [],
   "source": [
    "import numpy as np\n",
    "import sympy as sp\n",
    "import matplotlib.pyplot as plt\n",
    "\n",
    "sp.init_printing()"
   ]
  },
  {
   "cell_type": "code",
   "execution_count": 10,
   "metadata": {},
   "outputs": [
    {
     "data": {
      "image/png": "[encoded data removed]",
      "text/latex": [
       "$\\displaystyle \\frac{E \\operatorname{asin}{\\left(\\frac{\\sqrt{2} x \\sqrt{\\frac{m \\omega_{0}^{2}}{E}}}{2} \\right)}}{\\omega_{0}} + \\frac{m \\omega_{0} x \\sqrt{\\frac{2 E}{m \\omega_{0}^{2}} - x^{2}}}{2}$"
      ],
      "text/plain": [
       "      ⎛          _______⎞                           \n",
       "      ⎜         ╱     2 ⎟                           \n",
       "      ⎜        ╱  m⋅ω₀  ⎟               ____________\n",
       "      ⎜√2⋅x⋅  ╱   ───── ⎟              ╱  2⋅E     2 \n",
       "      ⎜     ╲╱      E   ⎟   m⋅ω₀⋅x⋅   ╱  ───── - x  \n",
       "E⋅asin⎜─────────────────⎟            ╱       2      \n",
       "      ⎝        2        ⎠          ╲╱    m⋅ω₀       \n",
       "───────────────────────── + ────────────────────────\n",
       "            ω₀                         2            "
      ]
     },
     "execution_count": 10,
     "metadata": {},
     "output_type": "execute_result"
    }
   ],
   "source": [
    "# Definición de símbolos\n",
    "sym = sp.symbols('t_0 t x S_0 omega_0 m E p')\n",
    "t_0, t, x, S_0, omega_0, m, E, p = sym[0], sym[1], sym[2], sym[3], sym[4], sym[5], sym[6], sym[7]\n",
    "\n",
    "S0 = m*omega_0*x/2*(sp.sqrt(2*E/(m*omega_0**2)-x**2)) + E/omega_0*sp.asin(sp.sqrt(m*omega_0**2/(2*E))*x)\n",
    "S0"
   ]
  },
  {
   "cell_type": "markdown",
   "metadata": {},
   "source": [
    "\\begin{equation} \\tag{9}\n",
    "\n",
    "S_0(q, E) = \\frac{m \\omega_0}{2} x \\left( \\sqrt{\\frac{2E}{m\\omega_0^2} - x^2} \\right) + \\frac{E}{\\omega_0} \\sin^{-1} \\left( \\sqrt{\\frac{m\\omega_0^2}{2E}} x \\right)\n",
    "\n",
    "\\end{equation} \\tag{9}\n",
    "\n",
    "Sabiendo que $\\frac{\\partial S}{\\partial E} = \\frac{\\partial S_0}{\\partial E} + \\Delta t = cte$ tomamos ahora las cantidades $p = \\frac{\\partial S_0}{\\partial x}, \\ \\ Q_E = \\frac{\\partial S_0}{\\partial E}$"
   ]
  },
  {
   "cell_type": "markdown",
   "metadata": {},
   "source": [
    "De la ecuación (8) se observa que $\\frac{\\partial S_0}{\\partial x}$\n",
    "\n",
    "\\begin{equation} \\tag{10}\n",
    "\n",
    "p = \\frac{\\partial S_0}{\\partial x} =  m\\omega_0 \\sqrt{\\frac{2E}{m\\omega_0^2}-x^2}\n",
    "\n",
    "\\end{equation} \\tag{10}\n",
    "\n",
    "Por lo tanto"
   ]
  },
  {
   "cell_type": "code",
   "execution_count": 34,
   "metadata": {},
   "outputs": [
    {
     "data": {
      "image/png": "[encoded data removed]",
      "text/latex": [
       "$\\displaystyle x = \\frac{\\sqrt{2} \\sqrt{E} \\sin{\\left(\\omega_{0} \\left(t - t_{0}\\right) \\right)}}{\\sqrt{m} \\omega_{0}}$"
      ],
      "text/plain": [
       "    √2⋅√E⋅sin(ω₀⋅(t - t₀))\n",
       "x = ──────────────────────\n",
       "            √m⋅ω₀         "
      ]
     },
     "execution_count": 34,
     "metadata": {},
     "output_type": "execute_result"
    }
   ],
   "source": [
    "Q_E = sp.Eq(t-t_0, S0.diff(E)) \n",
    "X = sp.solve(Q_E, x)\n",
    "sp.simplify(sp.Eq(x, X[0]))"
   ]
  },
  {
   "cell_type": "code",
   "execution_count": 12,
   "metadata": {},
   "outputs": [
    {
     "data": {
      "image/png": "[encoded data removed]",
      "text/latex": [
       "$\\displaystyle p = \\sqrt{2} m \\omega_{0} \\sqrt{\\frac{E \\cos^{2}{\\left(\\omega_{0} \\left(t - t_{0}\\right) \\right)}}{m \\omega_{0}^{2}}}$"
      ],
      "text/plain": [
       "                  _____________________\n",
       "                 ╱      2              \n",
       "                ╱  E⋅cos (ω₀⋅(t - t₀)) \n",
       "p = √2⋅m⋅ω₀⋅   ╱   ─────────────────── \n",
       "              ╱               2        \n",
       "            ╲╱            m⋅ω₀         "
      ]
     },
     "execution_count": 12,
     "metadata": {},
     "output_type": "execute_result"
    }
   ],
   "source": [
    "P = m*omega_0*sp.sqrt(2*E/(m*omega_0**2) - x**2)\n",
    "\n",
    "P = sp.Eq(p,sp.simplify(P.subs(x, X[0])))\n",
    "P"
   ]
  },
  {
   "cell_type": "code",
   "execution_count": 17,
   "metadata": {},
   "outputs": [
    {
     "data": {
      "image/png": "[encoded data removed]",
      "text/latex": [
       "$\\displaystyle p^{2} + x^{2} = 2 E m \\cos^{2}{\\left(\\omega_{0} \\left(t - t_{0}\\right) \\right)} + \\frac{2 E \\sin^{2}{\\left(\\omega_{0} \\left(t - t_{0}\\right) \\right)}}{m \\omega_{0}^{2}}$"
      ],
      "text/plain": [
       "                                           2             \n",
       " 2    2            2                2⋅E⋅sin (ω₀⋅(t - t₀))\n",
       "p  + x  = 2⋅E⋅m⋅cos (ω₀⋅(t - t₀)) + ─────────────────────\n",
       "                                                2        \n",
       "                                            m⋅ω₀         "
      ]
     },
     "execution_count": 17,
     "metadata": {},
     "output_type": "execute_result"
    }
   ],
   "source": [
    "sp.Eq(p**2 + x**2, P.rhs**2 + X[0]**2)"
   ]
  },
  {
   "cell_type": "markdown",
   "metadata": {},
   "source": [
    "Ahora se quiere observar el diagrama de fases del sistema hamiltoniano que muestra las trayectorias de los puntos en el espacio de fases, lo que ayuda a visualizar cómo cambian la pocisión $x(t)$ y el momento total $p$ del oscilador a lo largo del tiempo. Esto es esencial para comprender el comportamiento dinámico del mismo, además se pueden identificar puntos de equilibrio y su estabilidad. Los puntos de equilibrio pueden ser estables, inestables o neutros, y esto afecta cómo el sistema responde a pequeñas perturbaciones.\n",
    "\n",
    "se llega a que \n",
    "\n",
    "\\begin{equation} \\tag{11}\n",
    "\n",
    "p^2 + x^2  = 2mE \\cos^2{\\omega_0 \\Delta t} + \\frac{2E}{m \\omega_0^2} \\sin^2{\\omega_0 \\Delta t}\n",
    "\n",
    "\\end{equation} \\tag{11}\n",
    "\n",
    "\\begin{equation} \\tag{12}\n",
    "\n",
    "\\frac{p^2}{m^2 \\omega_0^2} + x^2  = \\frac{2E}{m \\omega_0^2}\n",
    "\n",
    "\\end{equation} \\tag{12}\n",
    "\n",
    "Representa de paramétricamente una elipse con semiejes $a = \\sqrt{\\frac{2E}{k}}$ y $b = m \\omega_0 \\sqrt{\\frac{2E}{k}}$ con un área encerrada $A = 2\\pi \\frac{E}{\\omega_0}$"
   ]
  },
  {
   "cell_type": "code",
   "execution_count": 7,
   "metadata": {},
   "outputs": [
    {
     "data": {
      "image/png": "[encoded data removed]",
      "text/plain": [
       "<Figure size 800x600 with 1 Axes>"
      ]
     },
     "metadata": {},
     "output_type": "display_data"
    }
   ],
   "source": [
    "#DIAGRAMA DE FASES DEL SISTEMA HAMILTONIANO\n",
    "\n",
    "import numpy as np\n",
    "import matplotlib.pyplot as plt\n",
    "\n",
    "E, omega_0, m = 10, 0.3, 1 # parámetros iniciales\n",
    "\n",
    "# Parámetros de la elipse\n",
    "a = omega_0*np.sqrt(2*m*E)  # semi-eje mayor\n",
    "\n",
    "b = 1/omega_0 * np.sqrt(2*E/m)  # semi-eje menor\n",
    "\n",
    "# Generar ángulos theta\n",
    "theta = np.linspace(0, 2 * np.pi, 100)\n",
    "\n",
    "# Coordenadas de la elipse\n",
    "x = a * np.cos(theta)\n",
    "y = b * np.sin(theta)\n",
    "\n",
    "# Crear la gráfica\n",
    "plt.figure(figsize=(8, 6))\n",
    "plt.fill(x, y, color='lightblue', alpha=0.5, label = 'Area Encerrada 2πE')\n",
    "plt.plot(x, y, label='Trayectoria de Fases')\n",
    "plt.xlabel('x')\n",
    "plt.ylabel('p')\n",
    "plt.title('Diagrama de Fases del sistema')\n",
    "plt.axhline(0, color='black',linewidth=0.5)\n",
    "plt.axvline(0, color='black',linewidth=0.5)\n",
    "plt.grid(True)\n",
    "#plt.gca().set_aspect('equal', adjustable='box')  # Igualar la relación de aspecto\n",
    "plt.legend()\n",
    "plt.show()\n"
   ]
  },
  {
   "cell_type": "markdown",
   "metadata": {},
   "source": [
    "## **Variable de acción para el sistema masa-resorte**\n",
    "En el caso donde $H(q, p)$ es independiente del tiempo, por consiguiente la energía se conserva y la variable de acción del sistema esta dada por la acción $S_0(q, E)$ que satisface a su vez la ecuación de Hamilton - Jacobi, por lo tanto en este caso la variable de acción depende directamente con la acción $S_0$ del sistema periodico, donde en este tipo de sistemas, lo importante en muchos casos es hallar las frecuencias del movimiento periodico mas que la trayectoria del mismo, es aqui donde la Variables de ángulo-acción cobran importancia en este tipo de sistemas **[cita libretexts]**. Considerando como $I$ la variable de acción que toma la integral cerrada alrededor de 1 solo periodo de oscilación del movimiento, entonces se define como:\n",
    "\n",
    "\\begin{equation} \\tag{13}\n",
    "\n",
    "I = \\frac{1}{2 \\pi} \\oint p(x)dx = \\frac{1}{2 \\pi} \\iint dp(x) dx \\approx \\frac{S_0(q, E)}{2 \\pi}\n",
    "\n",
    "\\end{equation} \\tag{13}\n",
    "\n",
    "Por lo que para el caso del sistema que es objeto de estudio tomaria la forma\n",
    "\n",
    "\\begin{equation} \\tag{14}\n",
    "\n",
    "I = \\frac{1}{2 \\pi} \\iint dp(x) dx\n",
    "\n",
    "\\end{equation} \\tag{14}\n",
    "\n",
    "Donde $\\iint dpdq$ es el área encerrada por el espacio de fases $(p, q)$, por lo tanto para el caso del sistema conservativo en cuestión la variable de acción $I$ es:\n",
    "\n",
    "\\begin{equation} \\tag{15}\n",
    "\n",
    "I = \\frac{1}{2 \\pi} \\pi a b = \\frac{1}{2 \\pi} \\sqrt{\\frac{2E}{k}} m \\omega_0 \\sqrt{\\frac{2E}{k}} = \\frac{E}{\\omega_0}\n",
    "\n",
    "\\end{equation} \\tag{15}\n",
    "\n",
    "Introduciendo ahora el concepto de invariancia adiabática sobre la magnitud $I$, la energía dependerá directamente de la frecuencia del oscilador cuando alguno de los parámetros del sistema mecánico varie lo suficientemente lento en el tiempo **[cita landau]**. Ahora tomemos el caso en el cuál un parámetro $\\lambda(t)$ perteneciente al sistema masa-resorte varia en el tiempo adiabaticamente.\n"
   ]
  },
  {
   "cell_type": "markdown",
   "metadata": {},
   "source": [
    "\n",
    "## **Invarianza adiabática del sistema masa-resorte**"
   ]
  },
  {
   "cell_type": "markdown",
   "metadata": {},
   "source": [
    "Ya se estudió el caso en el que el Hamiltoniano es independiente del tiempo. Ahora, suponemos un hamiltoniano $H(x,p, t) $ que implica que la energía dependa levemente del tiempo. Para lograr que la dependencia sea débil, se escoge un parámetro ($\\lambda$) del sistema que varíe poco a lo largo de un período (se puede observar en la eq. **18**). Para el sistema estudiado en este trabajo, se puede escoger la masa $m(t)$ y/o la constante de elasticidad $k(t)$  como la variable que presentará pequeños cambios a lo largo de un período. Cuando existe una variación en  ($\\lambda$) el movimiento se denomina como pertubado.\n",
    "\n",
    "\\begin{equation} \\tag{16}\n",
    "\n",
    "E(t) = H(x, p_x, t) = H(x, p_x, \\lambda (t))\n",
    "\n",
    "\\end{equation} \\tag{16}\n",
    "\n",
    "Siguiendo con el analísis para un sistema pertubado lentamente, la tasa de cambio de la energía respecto al tiempo.\n",
    "\n",
    "\\begin{equation} \\tag{17}\n",
    "\\frac{d E(t)}{dt} = \\frac{\\partial H}{\\partial \\lambda} \\frac{d \\lambda}{dt}\n",
    "\\end{equation} \\tag{17}\n",
    "\n",
    "Cuyo promedio a lo largo de un periodo es:\n",
    "\n",
    "\\begin{equation} \\tag{18}\n",
    "\\overline{ \\frac{d E(t)}{dt}} = \\frac{d \\lambda}{dt} \\frac{1}{T} \\int_0^T \\frac{\\partial H}{\\partial \\lambda} dt\n",
    "\\end{equation}  \\tag{18}\n",
    "\n",
    "Usando las ecuaciones de Hamilton, entonces $dq = \\frac{\\partial H}{\\partial p} \\bigg|_{q, \\lambda}$ y además $\\frac{1}{\\frac{\\partial H}{\\partial p} \\big|_{q}} = \\frac{\\partial p}{\\partial E} \\bigg|_{q}$\n",
    "se llega a que:\n",
    "\n",
    "\\begin{equation} \\tag{19}\n",
    "\n",
    "\\frac{\\partial I}{\\partial E} = \\frac{1}{2\\pi} \\oint \\frac{\\partial p}{\\partial E} \\bigg|_{q,\\lambda} dq = \\frac{1}{2\\pi} \\oint \\frac{dq}{\\partial H / \\partial p} \\bigg|_{q,\\lambda} = \\frac{1}{2\\pi} \\oint dt = \\frac{T}{2\\pi} = \\frac{1}{\\omega}\n",
    "\n",
    "\\end{equation}  \\tag{19}\n",
    "\n",
    "Expresión con la cuál se comprueba la variable de acción $I$ bajo la condición de leve variación temporal, dependiente del periodo $T$\n"
   ]
  },
  {
   "cell_type": "markdown",
   "metadata": {},
   "source": [
    "### **Variables Ángulo - Acción del sistema**\n",
    "\n",
    "Cuando el hamiltoniano depende del tiempo puede ser bastante difícil de resolver para el movimiento porque es difícil encontrar constantes de movimiento para sistemas dependientes del tiempo. Sin embargo, si la dependencia del tiempo es suficientemente lenta, es decir, si el movimiento es adiabático, entonces existen variables dinámicas que son casi constantes las cuales pueden ser utilizadas para resolver para el movimiento, llamadas variables de ángulo-acción **[cita libretexts]**.\n",
    "\n",
    "La acción abreviada en función de $I$ y el parámetro $\\lambda$ $\\ S_0(x, I, \\lambda)$,donde $\\lambda$ inicialmente es una constante\n",
    "\n",
    "\\begin{equation} \\tag{20}\n",
    "\n",
    "S_0(x, I, \\lambda) = \\int p(x, I, \\lambda) dx\n",
    "\n",
    "\\end{equation} \\tag{20}\n",
    "\n",
    "De acuerdo a las eqs. **13** y **20**, las nuevas ecuaciones de la transformación canónica de coordenadas $(x, p) \\ \\rightarrow \\ (I, \\phi)$ son\n",
    "\n",
    "\\begin{equation} \\tag{21}\n",
    "\n",
    "p = \\frac{\\partial S_0(x, I, \\lambda)}{\\partial q} \\ \\ \\ \\ \\ \\phi = \\frac{\\partial S_0(x, I, \\lambda)}{\\partial I}\n",
    "\n",
    "\\end{equation} \\tag{21}\n",
    "\n",
    "Junto con el nuevo hamiltoniano $H'(I, \\phi, \\lambda) = E (I, \\lambda)$ surgen las ecuaciones de hamilton para las nuevas coordenadas canónicas $(I, \\phi)$, además de acuerdo a la eq. **19** $E(I, \\lambda) = I \\omega_0$ se llega a:\n",
    "\n",
    "\\begin{equation} \\tag{22}\n",
    "\n",
    "\\dot I = - \\frac{\\partial H'}{\\partial \\phi} = 0 \\ \\ \\ \\ \\dot \\phi = \\frac{\\partial E}{\\partial I} = \\omega_0(I, \\lambda)\n",
    "\n",
    "\\end{equation} \\tag{22}\n",
    "\n",
    "Ahora observemos el caso en el cuál el hamiltoniano es depenetiente del tiempo através de la variación lenta del parámetro $\\lambda(t)$, entonces $H'(\\phi, I, t) = H + \\frac{\\partial S_0(x, I, \\lambda)}{\\partial t}$, con lo cuál\n",
    "\n",
    "\\begin{equation} \\tag{23}\n",
    "\n",
    "H'(\\phi, I, t) = E + \\frac{\\partial S_0}{\\partial t} = E(I, \\lambda) + \\frac{\\partial S_0}{\\partial \\lambda} \\dot \\lambda\n",
    "\n",
    "\\end{equation} \\tag{23}\n",
    "\n",
    "Dando lugar a la modificación de las eqs. en **22**, con lo que las ecuaciones de hamilton quedan como\n",
    "\n",
    "\\begin{equation} \\tag{24}\n",
    "\n",
    "\\dot I = - \\frac{\\partial }{\\partial \\phi} \\left(\\frac{\\partial S_0}{\\partial \\lambda} \\right) \\dot \\lambda \\ \\ \\ \\ \\dot \\phi = \\frac{\\partial E(I, \\lambda)}{\\partial I} + \\frac{\\partial}{\\partial I} \\left(\\frac{\\partial S_0}{\\partial \\lambda} \\right) \\dot \\lambda\n",
    "\n",
    "\\end{equation} \\tag{24}\n",
    "\n",
    "Aplicando finalmente las condiciones anteriores al sistema en cuestión, las coordenadas antiguas $(x, p)$ en función de las nuevas se expresan en la eq. 25. Sea entonces la frecuencia $\\omega$ el parámetro que variará levemente en el sistema, por lo que $\\omega \\rightarrow \\lambda(t)$, además según la eq. **22** $\\phi = \\omega_0 (t-t_0)$ por lo que $\\phi = \\lambda(t) (t-t_0)$ y $E = I \\lambda(t)$"
   ]
  },
  {
   "cell_type": "code",
   "execution_count": 46,
   "metadata": {},
   "outputs": [
    {
     "data": {
      "image/png": "[encoded data removed]",
      "text/latex": [
       "$\\displaystyle p = \\sqrt{2} \\lambda m \\sqrt{\\frac{I \\cos^{2}{\\left(\\phi \\right)}}{\\lambda m}}$"
      ],
      "text/plain": [
       "                ___________\n",
       "               ╱      2    \n",
       "              ╱  I⋅cos (φ) \n",
       "p = √2⋅λ⋅m⋅  ╱   ───────── \n",
       "           ╲╱       λ⋅m    "
      ]
     },
     "execution_count": 46,
     "metadata": {},
     "output_type": "execute_result"
    }
   ],
   "source": [
    "I, phi, phi_p, Lambda = sp.symbols('I'), sp.symbols('phi'), sp.symbols('phi_p'),  sp.symbols('lambda')\n",
    "\n",
    "P = ((P.subs(E, I*Lambda)).subs(omega_0*(t-t_0), phi)).subs(omega_0, Lambda)\n",
    "P"
   ]
  },
  {
   "cell_type": "code",
   "execution_count": 35,
   "metadata": {},
   "outputs": [
    {
     "data": {
      "image/png": "[encoded data removed]",
      "text/latex": [
       "$\\displaystyle \\frac{\\sqrt{2} \\sqrt{I \\lambda} \\sin{\\left(\\phi \\right)}}{\\lambda \\sqrt{m}}$"
      ],
      "text/plain": [
       "     _____       \n",
       "√2⋅╲╱ I⋅λ ⋅sin(φ)\n",
       "─────────────────\n",
       "       λ⋅√m      "
      ]
     },
     "execution_count": 35,
     "metadata": {},
     "output_type": "execute_result"
    }
   ],
   "source": [
    "X = ((X[0].subs(E, I*Lambda)).subs(omega_0*(t-t_0), phi)).subs(omega_0, Lambda)\n",
    "X"
   ]
  },
  {
   "cell_type": "markdown",
   "metadata": {},
   "source": [
    "\\begin{equation} \\tag{25}\n",
    "\n",
    "x(\\phi, I) = \\sqrt{\\frac{2I}{m\\lambda}} \\sin{\\phi} \\ \\ \\ \\ p(\\phi, I) = \\sqrt{2Im\\lambda} \\cos{\\phi}\n",
    "\n",
    "\\end{equation} \\tag{25}"
   ]
  },
  {
   "cell_type": "code",
   "execution_count": 62,
   "metadata": {},
   "outputs": [
    {
     "data": {
      "image/png": "[encoded data removed]",
      "text/latex": [
       "$\\displaystyle \\lambda = \\frac{2 I \\sin^{2}{\\left(\\phi \\right)}}{m x^{2}}$"
      ],
      "text/plain": [
       "           2   \n",
       "    2⋅I⋅sin (φ)\n",
       "λ = ───────────\n",
       "           2   \n",
       "        m⋅x    "
      ]
     },
     "execution_count": 62,
     "metadata": {},
     "output_type": "execute_result"
    }
   ],
   "source": [
    "λ = sp.Eq(Lambda, sp.solve(sp.Eq(x, X), Lambda)[0])\n",
    "λ"
   ]
  },
  {
   "cell_type": "markdown",
   "metadata": {},
   "source": [
    "Luego la acción $S_0(x, I, \\lambda)$ queda expresada como sigue\n",
    "\n",
    "\\begin{equation} \\tag{26}\n",
    "\n",
    "S_0(x, I, \\lambda) = \\int_0^x p(x, I, \\lambda)dx = \\int_0^\\phi 2I \\cos^2{\\phi'}d\\phi'\n",
    "\n",
    "\\end{equation} \\tag{26}\n",
    "\n",
    "con $\\phi = \\sin^{-1}{x\\sqrt{\\frac{m\\lambda}{2I}}}$, entonces se procede a encontrar las soluciones de las ecuaciones de hamilton de las nuevas variables en función del parámetro variable $\\lambda(t) = \\omega(t)$"
   ]
  },
  {
   "cell_type": "code",
   "execution_count": 128,
   "metadata": {},
   "outputs": [
    {
     "data": {
      "image/png": "[encoded data removed]",
      "text/latex": [
       "$\\displaystyle \\frac{d}{d t} I{\\left(t \\right)} = - \\frac{I \\sqrt{I \\lambda{\\left(t \\right)}} \\sqrt{\\frac{m \\lambda{\\left(t \\right)}}{I}} \\sqrt{\\cos^{2}{\\left(\\phi \\right)}} \\cos{\\left(2 \\phi \\right)} \\frac{d}{d t} \\lambda{\\left(t \\right)}}{\\sqrt{m} \\lambda^{2}{\\left(t \\right)} \\cos{\\left(\\phi \\right)}}$"
      ],
      "text/plain": [
       "                             ________    _________                   \n",
       "                ________    ╱ m⋅λ(t)    ╱    2              d        \n",
       "           -I⋅╲╱ I⋅λ(t) ⋅  ╱  ────── ⋅╲╱  cos (φ) ⋅cos(2⋅φ)⋅──(λ(t)) \n",
       "d                        ╲╱     I                           dt       \n",
       "──(I(t)) = ──────────────────────────────────────────────────────────\n",
       "dt                                  2                                \n",
       "                                √m⋅λ (t)⋅cos(φ)                      "
      ]
     },
     "execution_count": 128,
     "metadata": {},
     "output_type": "execute_result"
    }
   ],
   "source": [
    "phi = sp.asin(x*sp.sqrt(m*Lambda/(2*I)))\n",
    "\n",
    "S0 = sp.integrate(2*I*sp.cos(phi_p)**2, (phi_p, 0, phi))\n",
    "S0 = S0.subs(Lambda, λ.rhs)\n",
    "\n",
    "phi = sp.symbols('phi')\n",
    "lamb_t, I_t, phi_t, omega_t = sp.Function('lambda')(t), sp.Function('I')(t), sp.Function('phi')(t), sp.Function('omega')(t)\n",
    "\n",
    "\n",
    "dS0_dlambda = sp.simplify(sp.diff(S0, phi)*1/sp.diff(λ.rhs, phi)).subs(x, X)\n",
    "\n",
    "\n",
    "dot_I = -sp.simplify(sp.diff(dS0_dlambda, phi)*sp.diff(lamb_t, t))\n",
    "\n",
    "sp.Eq(sp.diff(I_t, t), dot_I.subs(Lambda, lamb_t))"
   ]
  },
  {
   "cell_type": "code",
   "execution_count": 112,
   "metadata": {},
   "outputs": [
    {
     "data": {
      "image/png": "[encoded data removed]",
      "text/latex": [
       "$\\displaystyle \\frac{d}{d t} \\phi{\\left(t \\right)} = \\lambda{\\left(t \\right)} + \\frac{\\sqrt{m} \\sqrt{I \\lambda{\\left(t \\right)}} \\sqrt{\\cos^{2}{\\left(\\phi \\right)}} \\sin{\\left(\\phi \\right)}}{I \\sqrt{\\frac{m \\lambda{\\left(t \\right)}}{I}} \\lambda{\\left(t \\right)}}$"
      ],
      "text/plain": [
       "                                   _________       \n",
       "                       ________   ╱    2           \n",
       "d                 √m⋅╲╱ I⋅λ(t) ⋅╲╱  cos (φ) ⋅sin(φ)\n",
       "──(φ(t)) = λ(t) + ─────────────────────────────────\n",
       "dt                             ________            \n",
       "                              ╱ m⋅λ(t)             \n",
       "                         I⋅  ╱  ────── ⋅λ(t)       \n",
       "                           ╲╱     I                "
      ]
     },
     "execution_count": 112,
     "metadata": {},
     "output_type": "execute_result"
    }
   ],
   "source": [
    "dot_phi = Lambda + sp.simplify(sp.diff(dS0_dlambda, I))\n",
    "sp.Eq(sp.diff(phi_t, t), dot_phi.subs(Lambda, lamb_t))"
   ]
  },
  {
   "cell_type": "code",
   "execution_count": 109,
   "metadata": {},
   "outputs": [
    {
     "data": {
      "image/png": "[encoded data removed]",
      "text/latex": [
       "$\\displaystyle \\frac{d}{d \\lambda} S_{0}{\\left(\\lambda \\right)} = \\frac{\\sqrt{m} \\sqrt{I \\lambda} \\sqrt{\\cos^{2}{\\left(\\phi \\right)}} \\sin{\\left(\\phi \\right)}}{\\lambda \\sqrt{\\frac{\\lambda m}{I}}}$"
      ],
      "text/plain": [
       "                          _________       \n",
       "                 _____   ╱    2           \n",
       "d           √m⋅╲╱ I⋅λ ⋅╲╱  cos (φ) ⋅sin(φ)\n",
       "──(S₀(λ)) = ──────────────────────────────\n",
       "dλ                         _____          \n",
       "                          ╱ λ⋅m           \n",
       "                     λ⋅  ╱  ───           \n",
       "                       ╲╱    I            "
      ]
     },
     "execution_count": 109,
     "metadata": {},
     "output_type": "execute_result"
    }
   ],
   "source": [
    "S0_lamb = sp.Function('S0')(Lambda)\n",
    "sp.Eq(sp.diff(S0_lamb, Lambda), sp.simplify(dS0_dlambda))"
   ]
  },
  {
   "cell_type": "markdown",
   "metadata": {},
   "source": [
    "por lo tanto las respectivas expresiones de las Eqs. **24** quedan desarrolladas como se sigue\n",
    "\n",
    "\\begin{align} \\tag{27}\n",
    "\n",
    "\\dot I = - I \\cos{2 \\phi} \\frac{\\dot \\lambda}{\\lambda} = -I \\cos{2 \\phi} \\frac{\\dot \\omega}{\\omega} \\\\\n",
    "\\dot \\phi = \\lambda + \\sin{2 \\phi} \\frac{\\dot \\lambda}{\\lambda} = \\omega + \\sin{2 \\phi} \\frac{\\dot \\omega}{\\omega}\n",
    "\n",
    "\\end{align} \\tag{27}\n",
    "\n",
    "El hamiltoniano $H'$ de acuerdo a la eq. **23** y las soluciones posteriores quedaria denotado como\n",
    "\n",
    "\\begin{equation} \\tag{28}\n",
    "\n",
    "H'(\\phi, I, t) = E(I, \\omega) + \\frac{\\partial S_0}{\\partial \\lambda} = E(I, \\omega) + \\frac{I}{2 \\lambda} \\sin{2 \\phi}\n",
    "\n",
    "\\end{equation} \\tag{28}\n",
    "\n",
    "Donde la frecuencia $\\omega(t)$ es el parámetro con dependencia del tiempo, además de la eq. **28** se puede denotar la linealidad del oscilador dada la dependencia lineal del nuevo hamiltoniano $H'$ de la variable $I$."
   ]
  },
  {
   "cell_type": "code",
   "execution_count": 132,
   "metadata": {},
   "outputs": [
    {
     "data": {
      "image/png": "[encoded data removed]",
      "text/latex": [
       "$\\displaystyle I = \\frac{2 \\omega{\\left(t \\right)} \\frac{d}{d t} \\omega{\\left(t \\right)}}{2 \\omega^{2}{\\left(t \\right)} + \\sin{\\left(2 \\phi \\right)} \\frac{d}{d t} \\omega{\\left(t \\right)}}$"
      ],
      "text/plain": [
       "                 d             \n",
       "          2⋅ω(t)⋅──(ω(t))      \n",
       "                 dt            \n",
       "I = ───────────────────────────\n",
       "       2               d       \n",
       "    2⋅ω (t) + sin(2⋅φ)⋅──(ω(t))\n",
       "                       dt      "
      ]
     },
     "execution_count": 132,
     "metadata": {},
     "output_type": "execute_result"
    }
   ],
   "source": [
    "#Desacoplando I\n",
    "\n",
    "dot_omega = sp.Eq(sp.diff(omega_t, t), I*omega_t + I/2*sp.sin(2*phi)*sp.diff(omega_t, t)/omega_t)\n",
    "\n",
    "sp.Eq(I, sp.simplify(sp.solve(dot_omega, I)[0]))"
   ]
  },
  {
   "cell_type": "markdown",
   "metadata": {},
   "source": [
    "Desacoplando el primer término de la eq. **27** queda\n",
    "\n",
    "\\begin{equation} \\tag{28}\n",
    "\n",
    "I(\\omega)  = \\frac{2 \\dot \\omega}{2 \\omega + \\sin{2 \\phi} \\frac{\\dot \\omega}{\\omega}}\n",
    "\n",
    "\\end{equation} \\tag{28}\n",
    "\n",
    "Ahora de acuerdo a lo anterior observemos el diagrama de fases correspondiente a las nuevas coordenadas donde $I, \\phi$ son el nuevo \"momento\" canónico y la variable angular correspondientemente."
   ]
  },
  {
   "cell_type": "code",
   "execution_count": 127,
   "metadata": {},
   "outputs": [
    {
     "data": {
      "image/png": "[encoded data removed]",
      "text/latex": [
       "$\\displaystyle - \\frac{I \\sqrt{I \\lambda} \\sqrt{\\frac{\\lambda m}{I}} \\sqrt{\\cos^{2}{\\left(\\phi \\right)}} \\lambda{\\left(t \\right)} \\cos{\\left(2 \\phi \\right)}}{\\lambda^{2} \\sqrt{m} \\cos{\\left(\\phi \\right)}}$"
      ],
      "text/plain": [
       "               _____    _________               \n",
       "     _____    ╱ λ⋅m    ╱    2                   \n",
       "-I⋅╲╱ I⋅λ ⋅  ╱  ─── ⋅╲╱  cos (φ) ⋅λ(t)⋅cos(2⋅φ) \n",
       "           ╲╱    I                              \n",
       "────────────────────────────────────────────────\n",
       "                   2                            \n",
       "                  λ ⋅√m⋅cos(φ)                  "
      ]
     },
     "execution_count": 127,
     "metadata": {},
     "output_type": "execute_result"
    }
   ],
   "source": [
    "#Integrando las eqs. 27\n",
    "\n",
    "I_omega = sp.integrate(dot_I, t)\n",
    "I_omega"
   ]
  },
  {
   "cell_type": "markdown",
   "metadata": {},
   "source": [
    "https://physics.stackexchange.com/questions/600117/adiabatic-invariant-in-variable-mass-oscillator\n",
    "\n"
   ]
  }
 ],
 "metadata": {
  "kernelspec": {
   "display_name": "base",
   "language": "python",
   "name": "python3"
  },
  "language_info": {
   "codemirror_mode": {
    "name": "ipython",
    "version": 3
   },
   "file_extension": ".py",
   "mimetype": "text/x-python",
   "name": "python",
   "nbconvert_exporter": "python",
   "pygments_lexer": "ipython3",
   "version": "3.11.7"
  }
 },
 "nbformat": 4,
 "nbformat_minor": 2
}
