{
 "cells": [
  {
   "cell_type": "markdown",
   "metadata": {},
   "source": [
    "# **Métrica de Schwarzchild: más allá de los agujeros negros**\n",
    "\n",
    "**Integrantes:**\n",
    "1. Jerónimo López Gómez C.C. 10017353334\n",
    "2. Valentina Lobo Ruiz C.C. 1067912559"
   ]
  },
  {
   "cell_type": "markdown",
   "metadata": {},
   "source": [
    "## **Planteamiento del Problema**\n",
    "\n",
    "Se busca analizar las propiedades de los agujeros negros, la métrica que los rige que es la métrica de Schwarzschild, su formación y su interacción con otros cuerpos celestes. Estos objetos tienen propiedades muy características y desde esta perspectiva hacen mas comprensible los fenómenos físicos que ocurren alrededor de este tipo de concentraciones de masa. En este trabajo se proponen los siguientes objetivos:\n",
    "\n",
    "1. Repasar conceptualmente la métrica de Schwarzchild.\n",
    "2. Plantear teoricamente las trayectorias que deben seguir los cuerpos y la luz en interacción con el campo gravitacional de un agujero negro.\n",
    "3. Realizar la solución númerica para analizar los efectos de las concentraciones de masa en el espacio-tiempo de Schwarzschild.\n",
    "\n"
   ]
  },
  {
   "cell_type": "code",
   "execution_count": 2,
   "metadata": {},
   "outputs": [],
   "source": [
    "#@title **Instalación de EinsteinPy**\n",
    "\n",
    "#pip install einsteinpy"
   ]
  },
  {
   "cell_type": "code",
   "execution_count": 3,
   "metadata": {},
   "outputs": [],
   "source": [
    "#Librerias\n",
    "\n",
    "import numpy as np\n",
    "import matplotlib.pyplot as plt\n",
    "from scipy.misc import derivative\n",
    "from scipy.integrate import solve_ivp\n",
    "from mpl_toolkits import mplot3d\n",
    "\n",
    "import astropy.units as u\n",
    "import numpy as np\n",
    "import astropy.units as u\n",
    "import matplotlib.pyplot as plt\n",
    "\n",
    "from einsteinpy.coordinates import BoyerLindquistDifferential\n",
    "from einsteinpy.metric import Kerr\n",
    "\n",
    "\n",
    "from einsteinpy.geodesic import Timelike\n",
    "from einsteinpy.plotting.geodesic import GeodesicPlotter"
   ]
  },
  {
   "cell_type": "markdown",
   "metadata": {},
   "source": [
    "## **Métrica de Schwarzild**"
   ]
  },
  {
   "cell_type": "markdown",
   "metadata": {},
   "source": [
    "\n",
    "## **Modelado de las trayectorias de partículas**\n",
    "\n",
    "La métrica de Schwarzild en coordenadas esfericas $(t,r,\\theta,\\phi)$ esta dada por: [PONER]\n",
    "\n",
    "$$ds^2=-(1-\\frac{2GM}{r})dt^2+(1-\\frac{2GM}{r})^{-1}dr^2+r^2d\\Omega^2$$\n",
    "\n",
    "con $d\\Omega^2=d\\theta^2+sin^2\\theta d\\phi^2$ y M la masa del objeto gravitacional.\n",
    "\n",
    "Considerando la ecuación de Einstein en el vacío $R_{\\mu \\nu}=0$ y la ausencia de energía-momento fuera del objeto, se deduce que el tensor energía-momento $T^{\\alpha \\beta}$ es un tensor nulo. Esto no significa que el tensor de curvatura de Riemamann sea cero, ni que el espacio-tiempo sea plano como ocurre en la métrica de Minkowski, sino que no hay cambios inmediatos en el volumen ocupado por un objeto o conjunto de partículas mientras se mueven a lo largo de geodésicas en el espacio-tiempo curvo.\n",
    "\n",
    "Por otro lado, tenemos la ecuación de campo de Einstein está dada por: [4]\n",
    "\n",
    "$$R_{\\mu \\nu} - \\frac{1}{2} R g_{\\mu \\nu} - \\Lambda g_{\\mu \\nu} = \\frac{8 \\pi G}{c^4} T_{\\mu \\nu}$$\n",
    "\n",
    "\n",
    "De lo anterior se sigue que:\n",
    "\n",
    "$$R_{\\mu \\nu} - \\frac{1}{2} R g_{\\mu \\nu} = 0 \\Leftrightarrow R_{\\mu \\nu} g^{\\mu \\nu} - \\frac{1}{2} R g_{\\mu \\nu} g^{\\mu \\nu} = 0 \\Leftrightarrow R^{\\mu}_{\\mu} - \\frac{1}{2} R \\delta^{\\mu}_{\\mu} = 0$$\n",
    "\n",
    "$$\\Leftrightarrow R - \\frac{1}{2} R (4) = 0 \\Leftrightarrow R = 0$$\n",
    "\n",
    "A medida que nos alejamos del objeto masivo, los efectos gravitacionales disminuyen, llevando el espacio-tiempo a una métrica de Minkowski. Como se supone que el objeto a tratar es esférico, se debe usar la métrica para espacios-tiempos planos en coordenadas esféricas $(t,r,\\theta  ,\\phi )$.\n",
    "\n",
    "$$g = \\left( \\begin{array}{ccc}\n",
    "1 & 0 & 0 & 0 \\\\\n",
    "0 & -1 & 0 & 0 \\\\\n",
    "0 & 0 & -r^2 & 0 \\\\\n",
    "0 & 0 & 0 & -r^2 \\sin^2{\\theta  } \\\\\n",
    "\\end{array} \\right) $$\n",
    "\n",
    "Esta será la métrica para un cuerpo lo suficientemente alejado del objeto generador del campo gravitacional.\n",
    "\n",
    "Sin embargo, en el caso en que se está lo suficientemente cerca pero fuera del objeto productor del campo, la métrica no corresponderá a la de un espacio-tiempo plano, sino a uno curvo. Usando el límite de bajas velocidades y gravedad débil, la métrica  reproduce la gravedad newtoniana.\n",
    "\n",
    "$$g = \\left( \\begin{array}{ccc}\n",
    "1 - \\frac{2GM}{r c^2} & 0 & 0 & 0 \\\\\n",
    "0 & -(1 - \\frac{2GM}{r c^2})^{-1} & 0 & 0 \\\\\n",
    "0 & 0 & -r^2 & 0 \\\\\n",
    "0 & 0 & 0 & -r^2 \\sin^2{\\theta  } \\\\\n",
    "\\end{array} \\right) $$\n",
    "\n",
    "Esta es la métrica encontrada por Schwarzschild que resuelve y cumple las condiciones del problema planteado. Donde $ \\frac{2GM}{c^2} = r_s$ se la conoce como radio de Schwarzschild u horizonte de eventos.\n",
    "\n",
    "Para hallar las diferentes trayectorias del sistema se debe resolver la ecuación geodésica $$\\frac{d^2 x^\\sigma }{d \\tau^2} +  \\Gamma_{\\mu \\nu}^{\\sigma }\\frac{d x^\\mu}{d \\tau  } \\frac{d x^\\nu}{d \\tau} = 0$$"
   ]
  },
  {
   "cell_type": "markdown",
   "metadata": {},
   "source": [
    "A continución se graficarán las trayectorias que recorren dos objetos cuando se acercan a un agujero negro."
   ]
  },
  {
   "cell_type": "code",
   "execution_count": null,
   "metadata": {},
   "outputs": [],
   "source": [
    "#@title Solución de las derivadas parciales\n",
    "# Función cálculo derivadas parciales de función de varias variables, respecto a variable dada en punto especifico.\n",
    "def partial_derivative(funcion,variable, punto,*argumentos):\n",
    "    punto = punto.T\n",
    "    x0 = punto[variable]\n",
    "\n",
    "    def funcion1var(x,*argumentos): # toma una función de varias variables y la transforma en función de una variable\n",
    "\n",
    "        X = (punto[:variable], np.array([x]), punto[(variable + 1):])\n",
    "\n",
    "        return funcion(np.concatenate(X) ,*argumentos)\n",
    "\n",
    "    return derivative(funcion1var, x0, args = argumentos)\n",
    "\n",
    "# tensor métrico\n",
    "def g(vector,index):\n",
    "    t,r,theta,phi = vector\n",
    "\n",
    "    if index[0] != index[1]: return 0\n",
    "\n",
    "    else:\n",
    "        if index[0]== 0 and index[1] == 0: return 1-(2*G*M/(r*c**2))\n",
    "        elif index[0]== 1 and index[1] == 1: return -(1-(2*G*M/(r*c**2)))**-1\n",
    "        if index[0]== 2 and index[1] == 2: return -r**2\n",
    "        elif index[0]== 3 and index[1] == 3: return - (r*np.sin(theta))**2\n",
    "\n",
    "\n",
    "# derivada parcial de la métrica.\n",
    "def Partial_gab_c(variable,punto,index):\n",
    "    Argumentos = index\n",
    "\n",
    "    return partial_derivative(g, variable, punto, Argumentos)\n",
    "\n",
    "# símbolos de Christoffel.\n",
    "def christoffel_ikl_(punto,indices):\n",
    "    i,k,l = indices\n",
    "\n",
    "    def val(m):\n",
    "        g_mk_l = Partial_gab_c(l,punto,(m,k))\n",
    "        g_ml_k = Partial_gab_c(k,punto,(m,l))\n",
    "        g_kl_m = Partial_gab_c(m,punto,(k,l))\n",
    "        return  0.5*g(punto,(i,m))*(g_mk_l + g_ml_k + g_kl_m )\n",
    "\n",
    "    return val(0)+val(1)+val(2)+val(3)\n",
    "\n",
    "# lado derecho de la eq geodésica\n",
    "def RightSide(S,i):\n",
    "    U = S[:4]\n",
    "    X = S[4:]\n",
    "\n",
    "    return np.sum( [-christoffel_ikl_(X,(i,k,l))*U[k]*U[l]  for k in range(0,4) for l in range(0,4) ]   )\n",
    "\n",
    "def F(t,S):\n",
    "    U = S[:4]\n",
    "    X = S[4:]\n",
    "    f = np.array([RightSide(S,i) for i in range(0,4)])\n",
    "\n",
    "    return np.concatenate((f,U))"
   ]
  }
 ],
 "metadata": {
  "kernelspec": {
   "display_name": "base",
   "language": "python",
   "name": "python3"
  },
  "language_info": {
   "codemirror_mode": {
    "name": "ipython",
    "version": 3
   },
   "file_extension": ".py",
   "mimetype": "text/x-python",
   "name": "python",
   "nbconvert_exporter": "python",
   "pygments_lexer": "ipython3",
   "version": "3.11.5"
  }
 },
 "nbformat": 4,
 "nbformat_minor": 2
}
