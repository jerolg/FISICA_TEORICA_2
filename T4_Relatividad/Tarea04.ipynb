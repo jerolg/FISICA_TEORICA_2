{
 "cells": [
  {
   "cell_type": "markdown",
   "metadata": {},
   "source": [
    "# **Métrica de Schwarzchild: más allá de los agujeros negros**\n",
    "\n",
    "**Integrantes:**\n",
    "1. Jerónimo López Gómez C.C. 10017353334\n",
    "2. Valentina Lobo Ruiz C.C. 1067912559"
   ]
  },
  {
   "cell_type": "markdown",
   "metadata": {},
   "source": [
    "## **Planteamiento del Problema**\n",
    "\n",
    "Se busca analizar las propiedades de los agujeros negros, la métrica que los rige que es la métrica de Schwarzschild, su formación y su interacción con otros cuerpos celestes. Estos objetos tienen propiedades muy características y desde esta perspectiva hacen mas comprensible los fenómenos físicos que ocurren alrededor de este tipo de concentraciones de masa. En este trabajo se proponen los siguientes objetivos:\n",
    "\n",
    "1. Repasar conceptualmente la métrica de Schwarzchild y su diagrama de Penrose.\n",
    "2. Plantear teoricamente las trayectorias que deben seguir los cuerpos y la luz en interacción con el campo gravitacional de un agujero negro.\n",
    "3. Realizar la solución númerica para analizar los efectos de las concentraciones de masa en el espacio-tiempo de Schwarzschild.\n",
    "\n"
   ]
  },
  {
   "cell_type": "markdown",
   "metadata": {},
   "source": [
    "## **Modelado de las trayectorias de partículas**\n",
    "\n",
    "\n",
    "**Métrica de Schwarzchild**\n",
    "\n",
    "En la relatividad general, la única solución con simetría esférica en el vacío es la métrica de Schwarzild. En coordenadas esfericas $(t,r,\\theta,\\phi)$ esta dada por: [4]\n",
    "\n",
    "$$ds^2=-(1-\\frac{2GM}{r})dt^2+(1-\\frac{2GM}{r})^{-1}dr^2+r^2d\\Omega^2$$\n",
    "\n",
    "con $d\\Omega^2=d\\theta^2+sin^2\\theta d\\phi^2$ y M la masa del objeto gravitacional.\n",
    "\n",
    "Considerando la ecuación de Einstein en el vacío $$R_{\\mu \\nu}=0$$ y la ausencia de energía-momento fuera del objeto, se deduce que el tensor energía-momento debe ser igual a cero. Esto no significa que el tensor de curvatura de Riemamann sea cero, sino que no hay cambios inmediatos en el volumen ocupado por un objeto o conjunto de partículas mientras se mueven a lo largo de geodésicas en el espacio-tiempo curvo.\n",
    "\n",
    "\n",
    "La ecuación de campo de Einstein está dada por: [4]\n",
    "\n",
    "$$R_{\\mu \\nu} - \\frac{1}{2} R g_{\\mu \\nu} - \\Lambda g_{\\mu \\nu} = \\frac{8 \\pi G}{c^4} T_{\\mu \\nu}$$\n",
    "\n",
    "\n",
    "De lo anterior se sigue que:\n",
    "\n",
    "$$R_{\\mu \\nu} - \\frac{1}{2} R g_{\\mu \\nu} = 0 \\Leftrightarrow R_{\\mu \\nu} g^{\\mu \\nu} - \\frac{1}{2} R g_{\\mu \\nu} g^{\\mu \\nu} = 0 \\Leftrightarrow R^{\\mu}_{\\mu} - \\frac{1}{2} R \\delta^{\\mu}_{\\mu} = 0$$\n",
    "\n",
    "$$\\Leftrightarrow R - \\frac{1}{2} R (4) = 0 \\Leftrightarrow R = 0$$\n",
    "\n",
    "A medida que nos alejamos del objeto masivo, los efectos gravitacionales disminuyen, llevando el espacio-tiempo a una métrica de Minkowski. Como se tiene o se supone que el objeto a tratar es esférico, se debe usar la métrica para espacios-tiempos planos en coordenadas esféricas $(t,r,\\theta  ,\\phi )$.\n",
    "\n",
    "$$g = \\left( \\begin{array}{ccc}\n",
    "1 & 0 & 0 & 0 \\\\\n",
    "0 & -1 & 0 & 0 \\\\\n",
    "0 & 0 & -r^2 & 0 \\\\\n",
    "0 & 0 & 0 & -r^2 \\sin^2{\\theta  } \\\\\n",
    "\\end{array} \\right) $$\n",
    "\n",
    "Esta será la métrica para un cuerpo lo suficientemente alejado del objeto generador del campo gravitacional.\n",
    "\n",
    "Sin embargo, en el caso en que se está cerca pero fuera del objeto productor del campo, la métrica no corresponderá a la de un espacio-tiempo plano, sino a uno curvo. Usando el límite de bajas velocidades y gravedad débil, la métrica  reproduce la gravedad newtoniana.\n",
    "\n",
    "$$g = \\left( \\begin{array}{ccc}\n",
    "1 - \\frac{2GM}{r c^2} & 0 & 0 & 0 \\\\\n",
    "0 & -(1 - \\frac{2GM}{r c^2})^{-1} & 0 & 0 \\\\\n",
    "0 & 0 & -r^2 & 0 \\\\\n",
    "0 & 0 & 0 & -r^2 \\sin^2{\\theta  } \\\\\n",
    "\\end{array} \\right) $$\n",
    "\n",
    "Esta es la métrica encontrada por Schwarzschild que resuelve y cumple las condiciones del problema planteado. Donde $ \\frac{2GM}{c^2} = r_s$ se la conoce como radio de Schwarzschild u horizonte de eventos.\n",
    "\n",
    "Para hallar las diferentes trayectorias del sistema se debe resolver la ecuación geodésica $$\\frac{d^2 x^\\sigma }{d \\tau^2} +  \\Gamma_{\\mu \\nu}^{\\sigma }\\frac{d x^\\mu}{d \\tau  } \\frac{d x^\\nu}{d \\tau} = 0$$"
   ]
  }
 ],
 "metadata": {
  "kernelspec": {
   "display_name": "base",
   "language": "python",
   "name": "python3"
  },
  "language_info": {
   "codemirror_mode": {
    "name": "ipython",
    "version": 3
   },
   "file_extension": ".py",
   "mimetype": "text/x-python",
   "name": "python",
   "nbconvert_exporter": "python",
   "pygments_lexer": "ipython3",
   "version": "3.11.5"
  }
 },
 "nbformat": 4,
 "nbformat_minor": 2
}
