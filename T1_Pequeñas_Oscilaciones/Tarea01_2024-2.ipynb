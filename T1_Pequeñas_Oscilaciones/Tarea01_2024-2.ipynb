{
 "cells": [
  {
   "cell_type": "markdown",
   "metadata": {},
   "source": [
    "<h1>Propuesta de Tarea 01 : Pequeñas Oscilaciones</h1>\n",
    "\n",
    "**Modos Vibracionales - Molécula $NH_3$ (Amoníaco)**\n",
    "\n",
    "**Objetivos**\n",
    "\n",
    "- Determinar las contribuciones de energia potencial dentro del Lagrangiano que describe la molécula de $NH_3$ considerando el sistema como un arreglo de resortes acoplados por masas y el caso de potenciales de interacción atómica como el potencial de Morse + Potencial del Torsión + Potencial Angular. (Analítico)\n",
    "\n",
    "- Determinar las coordenadas normales que describen el sistema en cada caso. (Analítico)\n",
    "\n",
    "- Por medio de aproximaciones de orden superior en el potencial de naturaleza elástica, determinar los modos normales de vibración de la molécula de $NH_3$ y de igual forma determinar los modos vibracionales por medio de la superpocision de potenciales de Morse, Angular, Torsión. (Análitico y Numérico)\n",
    "\n",
    "- Graficar modos normales, y potenciales $V(r, \\theta)$\n",
    "\n",
    "- Interpretación física de los resultados. (Soluciones Numéricas)\n",
    "\n"
   ]
  },
  {
   "cell_type": "markdown",
   "metadata": {},
   "source": [
    "https://en.wikipedia.org/wiki/Molecular_vibration#Normal_coordinates\n",
    "\n",
    "https://chem.libretexts.org/Courses/Pacific_Union_College/Quantum_Chemistry/05%3A_The_Harmonic_Oscillator_and_the_Rigid_Rotor/5.03%3A_The_Harmonic_Oscillator_Approximates_Vibrations\n",
    "\n",
    "https://www.ijnnonline.net/article_707289_2b396ccee307641ca5fb2358d8e562a5.pdf\n",
    "\n",
    "https://bpb-us-w2.wpmucdn.com/voices.uchicago.edu/dist/0/1830/files/2019/07/Morse-Oscillator.pdf\n",
    "\n",
    "https://scipython.com/blog/the-morse-oscillator/\n",
    "\n",
    "https://farside.ph.utexas.edu/teaching/336k/Newton/node101.html\n",
    "\n",
    "https://www.iitg.ac.in/physics/fac/padmakumarp/Courses/PH101/Lecture4.pdf\n",
    "\n"
   ]
  }
 ],
 "metadata": {
  "language_info": {
   "name": "python"
  }
 },
 "nbformat": 4,
 "nbformat_minor": 2
}
